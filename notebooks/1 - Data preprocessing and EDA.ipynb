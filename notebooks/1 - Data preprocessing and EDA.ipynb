{
 "cells": [
  {
   "cell_type": "code",
   "execution_count": 1,
   "metadata": {
    "collapsed": true,
    "pycharm": {
     "name": "#%%\n"
    }
   },
   "outputs": [],
   "source": [
    "import pandas as pd\n",
    "import matplotlib.pyplot as plt\n",
    "import seaborn as sns\n",
    "from utility_functions import *"
   ]
  },
  {
   "cell_type": "markdown",
   "source": [
    "# Date Preproccesing\n",
    "### Committee dataset"
   ],
   "metadata": {
    "collapsed": false,
    "pycharm": {
     "name": "#%% md\n"
    }
   }
  },
  {
   "cell_type": "code",
   "execution_count": 20,
   "outputs": [
    {
     "data": {
      "text/plain": "   Index           Speaker                                          QuoteText  \\\n0      1  היו\"ר צחי הנגבי:  רבותיי, תודה לכולם על ההגעה בהתראה קצרה. סוף-ס...   \n1      2         חמד עמאר:             לא, יש לך רביזיה. כבר עכשיו אני אומר.    \n2      3  היו\"ר צחי הנגבי:             אוקיי, אתם כרגע האופוזיציה, אתה אומר.    \n3      4        אחמד טיבי:  איזו הרגשה טובה שלא אני צריך למחות אלא ישראל ב...   \n4      5  היו\"ר צחי הנגבי:     אתה רוצה להסביר? כי אני לא מכיר שיש לכם בעיה.    \n\n       $Type  SessionID            StartDate  PersonID  \n0  Committee     290069  2015-06-01 16:30:00     467.0  \n1  Committee     290069  2015-06-01 16:30:00   12938.0  \n2  Committee     290069  2015-06-01 16:30:00     467.0  \n3  Committee     290069  2015-06-01 16:30:00     560.0  \n4  Committee     290069  2015-06-01 16:30:00     467.0  ",
      "text/html": "<div>\n<style scoped>\n    .dataframe tbody tr th:only-of-type {\n        vertical-align: middle;\n    }\n\n    .dataframe tbody tr th {\n        vertical-align: top;\n    }\n\n    .dataframe thead th {\n        text-align: right;\n    }\n</style>\n<table border=\"1\" class=\"dataframe\">\n  <thead>\n    <tr style=\"text-align: right;\">\n      <th></th>\n      <th>Index</th>\n      <th>Speaker</th>\n      <th>QuoteText</th>\n      <th>$Type</th>\n      <th>SessionID</th>\n      <th>StartDate</th>\n      <th>PersonID</th>\n    </tr>\n  </thead>\n  <tbody>\n    <tr>\n      <th>0</th>\n      <td>1</td>\n      <td>היו\"ר צחי הנגבי:</td>\n      <td>רבותיי, תודה לכולם על ההגעה בהתראה קצרה. סוף-ס...</td>\n      <td>Committee</td>\n      <td>290069</td>\n      <td>2015-06-01 16:30:00</td>\n      <td>467.0</td>\n    </tr>\n    <tr>\n      <th>1</th>\n      <td>2</td>\n      <td>חמד עמאר:</td>\n      <td>לא, יש לך רביזיה. כבר עכשיו אני אומר.</td>\n      <td>Committee</td>\n      <td>290069</td>\n      <td>2015-06-01 16:30:00</td>\n      <td>12938.0</td>\n    </tr>\n    <tr>\n      <th>2</th>\n      <td>3</td>\n      <td>היו\"ר צחי הנגבי:</td>\n      <td>אוקיי, אתם כרגע האופוזיציה, אתה אומר.</td>\n      <td>Committee</td>\n      <td>290069</td>\n      <td>2015-06-01 16:30:00</td>\n      <td>467.0</td>\n    </tr>\n    <tr>\n      <th>3</th>\n      <td>4</td>\n      <td>אחמד טיבי:</td>\n      <td>איזו הרגשה טובה שלא אני צריך למחות אלא ישראל ב...</td>\n      <td>Committee</td>\n      <td>290069</td>\n      <td>2015-06-01 16:30:00</td>\n      <td>560.0</td>\n    </tr>\n    <tr>\n      <th>4</th>\n      <td>5</td>\n      <td>היו\"ר צחי הנגבי:</td>\n      <td>אתה רוצה להסביר? כי אני לא מכיר שיש לכם בעיה.</td>\n      <td>Committee</td>\n      <td>290069</td>\n      <td>2015-06-01 16:30:00</td>\n      <td>467.0</td>\n    </tr>\n  </tbody>\n</table>\n</div>"
     },
     "execution_count": 20,
     "metadata": {},
     "output_type": "execute_result"
    }
   ],
   "source": [
    "c_df = pd.read_csv(f\"../data/1 - Original data/CommitteeData.csv\", index_col=0).rename(\n",
    "    {\"DocumentCommitteeSessionID\": \"SessionID\", \"RawText\": \"QuoteText\"}, axis=1)\n",
    "c_df.head()"
   ],
   "metadata": {
    "collapsed": false,
    "pycharm": {
     "name": "#%%\n"
    }
   }
  },
  {
   "cell_type": "code",
   "execution_count": null,
   "outputs": [],
   "source": [],
   "metadata": {
    "collapsed": false,
    "pycharm": {
     "name": "#%%\n"
    }
   }
  },
  {
   "cell_type": "markdown",
   "source": [
    "### Plenum dataset"
   ],
   "metadata": {
    "collapsed": false,
    "pycharm": {
     "name": "#%% md\n"
    }
   }
  },
  {
   "cell_type": "code",
   "execution_count": 21,
   "outputs": [
    {
     "data": {
      "text/plain": "   Index                     Speaker  \\\n0      1   היו\"ר יולי יואל אדלשטיין:   \n1      2   היו\"ר יולי יואל אדלשטיין:   \n2      3   היו\"ר יולי יואל אדלשטיין:   \n3      4   היו\"ר יולי יואל אדלשטיין:   \n4      5  יצחק הרצוג (המחנה הציוני):   \n\n                                           QuoteText   $Type  SessionID  \\\n0  חברי הכנסת, היום יום שני, י\"ד בסיוון תשע\"ה, 1 ...  Plenum     308385   \n1  חברי הכנסת, שימו לב, אני מתכבד להודיע, בהתאם ל...  Plenum     308385   \n2                   ברכותינו לחבר הכנסת יצחק הרצוג.   Plenum     308385   \n3  מעתה לא אצטרך לכנות אותו \"ראש האופוזיציה המיוע...  Plenum     308385   \n4                                          תודה רבה.  Plenum     308385   \n\n             StartDate  PersonID  \n0  2015-06-01 16:00:00     532.0  \n1  2015-06-01 16:00:00     532.0  \n2  2015-06-01 16:00:00     532.0  \n3  2015-06-01 16:00:00     532.0  \n4  2015-06-01 16:00:00    1044.0  ",
      "text/html": "<div>\n<style scoped>\n    .dataframe tbody tr th:only-of-type {\n        vertical-align: middle;\n    }\n\n    .dataframe tbody tr th {\n        vertical-align: top;\n    }\n\n    .dataframe thead th {\n        text-align: right;\n    }\n</style>\n<table border=\"1\" class=\"dataframe\">\n  <thead>\n    <tr style=\"text-align: right;\">\n      <th></th>\n      <th>Index</th>\n      <th>Speaker</th>\n      <th>QuoteText</th>\n      <th>$Type</th>\n      <th>SessionID</th>\n      <th>StartDate</th>\n      <th>PersonID</th>\n    </tr>\n  </thead>\n  <tbody>\n    <tr>\n      <th>0</th>\n      <td>1</td>\n      <td>היו\"ר יולי יואל אדלשטיין:</td>\n      <td>חברי הכנסת, היום יום שני, י\"ד בסיוון תשע\"ה, 1 ...</td>\n      <td>Plenum</td>\n      <td>308385</td>\n      <td>2015-06-01 16:00:00</td>\n      <td>532.0</td>\n    </tr>\n    <tr>\n      <th>1</th>\n      <td>2</td>\n      <td>היו\"ר יולי יואל אדלשטיין:</td>\n      <td>חברי הכנסת, שימו לב, אני מתכבד להודיע, בהתאם ל...</td>\n      <td>Plenum</td>\n      <td>308385</td>\n      <td>2015-06-01 16:00:00</td>\n      <td>532.0</td>\n    </tr>\n    <tr>\n      <th>2</th>\n      <td>3</td>\n      <td>היו\"ר יולי יואל אדלשטיין:</td>\n      <td>ברכותינו לחבר הכנסת יצחק הרצוג.</td>\n      <td>Plenum</td>\n      <td>308385</td>\n      <td>2015-06-01 16:00:00</td>\n      <td>532.0</td>\n    </tr>\n    <tr>\n      <th>3</th>\n      <td>4</td>\n      <td>היו\"ר יולי יואל אדלשטיין:</td>\n      <td>מעתה לא אצטרך לכנות אותו \"ראש האופוזיציה המיוע...</td>\n      <td>Plenum</td>\n      <td>308385</td>\n      <td>2015-06-01 16:00:00</td>\n      <td>532.0</td>\n    </tr>\n    <tr>\n      <th>4</th>\n      <td>5</td>\n      <td>יצחק הרצוג (המחנה הציוני):</td>\n      <td>תודה רבה.</td>\n      <td>Plenum</td>\n      <td>308385</td>\n      <td>2015-06-01 16:00:00</td>\n      <td>1044.0</td>\n    </tr>\n  </tbody>\n</table>\n</div>"
     },
     "execution_count": 21,
     "metadata": {},
     "output_type": "execute_result"
    }
   ],
   "source": [
    "p_df = pd.read_csv(f\"../data/1 - Original data/PlenumData.csv\", index_col=0).rename(\n",
    "    {\"DocumentPlenumSessionID\": \"SessionID\", \"RawText\": \"QuoteText\"}, axis=1)\n",
    "p_df.head()"
   ],
   "metadata": {
    "collapsed": false,
    "pycharm": {
     "name": "#%%\n"
    }
   }
  },
  {
   "cell_type": "markdown",
   "source": [
    "### Preproccessing and creating the joined dataset"
   ],
   "metadata": {
    "collapsed": false,
    "pycharm": {
     "name": "#%% md\n"
    }
   }
  },
  {
   "cell_type": "code",
   "execution_count": 22,
   "outputs": [],
   "source": [
    "original_df = pd.concat([p_df, c_df])"
   ],
   "metadata": {
    "collapsed": false,
    "pycharm": {
     "name": "#%%\n"
    }
   }
  },
  {
   "cell_type": "code",
   "execution_count": 23,
   "outputs": [],
   "source": [
    "# Drop quotes from irrelevant speakers (who are not parliament members):\n",
    "relevant_speakers, irrelevant_speakers = get_relevant_speakers(original_df)\n",
    "f_df = original_df[original_df.Speaker.isin(relevant_speakers)]"
   ],
   "metadata": {
    "collapsed": false,
    "pycharm": {
     "name": "#%%\n"
    }
   }
  },
  {
   "cell_type": "markdown",
   "source": [],
   "metadata": {
    "collapsed": false,
    "pycharm": {
     "name": "#%% md\n"
    }
   }
  },
  {
   "cell_type": "code",
   "execution_count": 24,
   "outputs": [
    {
     "name": "stderr",
     "output_type": "stream",
     "text": [
      "C:\\Users\\nitza\\AppData\\Local\\Temp\\ipykernel_15544\\501848543.py:2: SettingWithCopyWarning: \n",
      "A value is trying to be set on a copy of a slice from a DataFrame.\n",
      "Try using .loc[row_indexer,col_indexer] = value instead\n",
      "\n",
      "See the caveats in the documentation: https://pandas.pydata.org/pandas-docs/stable/user_guide/indexing.html#returning-a-view-versus-a-copy\n",
      "  f_df['QuoteLen'] = f_df['QuoteText'].str.len()\n",
      "C:\\Users\\nitza\\AppData\\Local\\Temp\\ipykernel_15544\\501848543.py:3: SettingWithCopyWarning: \n",
      "A value is trying to be set on a copy of a slice from a DataFrame.\n",
      "Try using .loc[row_indexer,col_indexer] = value instead\n",
      "\n",
      "See the caveats in the documentation: https://pandas.pydata.org/pandas-docs/stable/user_guide/indexing.html#returning-a-view-versus-a-copy\n",
      "  f_df['QuoteWordCount'] = f_df[\"QuoteText\"].apply(lambda x: len(str(x).split(\" \")))\n",
      "C:\\Users\\nitza\\AppData\\Local\\Temp\\ipykernel_15544\\501848543.py:6: FutureWarning: The default value of regex will change from True to False in a future version.\n",
      "  f_df['QuoteTextNoPunct'] = f_df['QuoteText'].str.replace(r'[.,:\"\\'!?()]+', '')\n",
      "C:\\Users\\nitza\\AppData\\Local\\Temp\\ipykernel_15544\\501848543.py:6: SettingWithCopyWarning: \n",
      "A value is trying to be set on a copy of a slice from a DataFrame.\n",
      "Try using .loc[row_indexer,col_indexer] = value instead\n",
      "\n",
      "See the caveats in the documentation: https://pandas.pydata.org/pandas-docs/stable/user_guide/indexing.html#returning-a-view-versus-a-copy\n",
      "  f_df['QuoteTextNoPunct'] = f_df['QuoteText'].str.replace(r'[.,:\"\\'!?()]+', '')\n",
      "C:\\Users\\nitza\\AppData\\Local\\Temp\\ipykernel_15544\\501848543.py:9: SettingWithCopyWarning: \n",
      "A value is trying to be set on a copy of a slice from a DataFrame\n",
      "\n",
      "See the caveats in the documentation: https://pandas.pydata.org/pandas-docs/stable/user_guide/indexing.html#returning-a-view-versus-a-copy\n",
      "  f_df.drop(f_df[(f_df['QuoteWordCount'] <= 15) | (f_df['QuoteWordCount'] > 150)].index, inplace=True)\n"
     ]
    }
   ],
   "source": [
    "# Add character and word count columns for quotes:\n",
    "f_df['QuoteLen'] = f_df['QuoteText'].str.len()\n",
    "f_df['QuoteWordCount'] = f_df[\"QuoteText\"].apply(lambda x: len(str(x).split(\" \")))\n",
    "\n",
    "#remove punctuation from quotes\n",
    "f_df['QuoteTextNoPunct'] = f_df['QuoteText'].str.replace(r'[.,:\"\\'!?()]+', '')\n",
    "\n",
    "# Drop irrelevant quotes -too short (less than 15 words) or too long (more than 150 words):\n",
    "f_df.drop(f_df[(f_df['QuoteWordCount'] <= 15) | (f_df['QuoteWordCount'] > 150)].index, inplace=True)"
   ],
   "metadata": {
    "collapsed": false,
    "pycharm": {
     "name": "#%%\n"
    }
   }
  },
  {
   "cell_type": "code",
   "execution_count": 25,
   "outputs": [
    {
     "name": "stderr",
     "output_type": "stream",
     "text": [
      "C:\\Users\\nitza\\AppData\\Local\\Temp\\ipykernel_15544\\2649342654.py:2: SettingWithCopyWarning: \n",
      "A value is trying to be set on a copy of a slice from a DataFrame.\n",
      "Try using .loc[row_indexer,col_indexer] = value instead\n",
      "\n",
      "See the caveats in the documentation: https://pandas.pydata.org/pandas-docs/stable/user_guide/indexing.html#returning-a-view-versus-a-copy\n",
      "  f_df.loc[:, \"NonStopwordsQuoteText\"] = f_df.QuoteTextNoPunct.apply(get_non_stop_words)\n"
     ]
    }
   ],
   "source": [
    "# Add a column for quote cleaned from stopwords:\n",
    "f_df.loc[:, \"NonStopwordsQuoteText\"] = f_df.QuoteTextNoPunct.apply(get_non_stop_words)"
   ],
   "metadata": {
    "collapsed": false,
    "pycharm": {
     "name": "#%%\n"
    }
   }
  },
  {
   "cell_type": "code",
   "execution_count": 26,
   "outputs": [
    {
     "name": "stderr",
     "output_type": "stream",
     "text": [
      "C:\\Users\\nitza\\AppData\\Local\\Temp\\ipykernel_15544\\3607342066.py:2: SettingWithCopyWarning: \n",
      "A value is trying to be set on a copy of a slice from a DataFrame\n",
      "\n",
      "See the caveats in the documentation: https://pandas.pydata.org/pandas-docs/stable/user_guide/indexing.html#returning-a-view-versus-a-copy\n",
      "  f_df[\"NonStopwordsQuoteText\"].dropna(inplace=True)\n",
      "C:\\Users\\nitza\\AppData\\Local\\Temp\\ipykernel_15544\\3607342066.py:5: SettingWithCopyWarning: \n",
      "A value is trying to be set on a copy of a slice from a DataFrame.\n",
      "Try using .loc[row_indexer,col_indexer] = value instead\n",
      "\n",
      "See the caveats in the documentation: https://pandas.pydata.org/pandas-docs/stable/user_guide/indexing.html#returning-a-view-versus-a-copy\n",
      "  f_df['QuoteWordCountClean'] = f_df[\"NonStopwordsQuoteText\"].apply(lambda x: len(str(x).split(\" \")))\n",
      "C:\\Users\\nitza\\AppData\\Local\\Temp\\ipykernel_15544\\3607342066.py:6: SettingWithCopyWarning: \n",
      "A value is trying to be set on a copy of a slice from a DataFrame\n",
      "\n",
      "See the caveats in the documentation: https://pandas.pydata.org/pandas-docs/stable/user_guide/indexing.html#returning-a-view-versus-a-copy\n",
      "  f_df.drop(f_df[(f_df['QuoteWordCountClean'] <= 8)].index, inplace=True)\n",
      "C:\\Users\\nitza\\AppData\\Local\\Temp\\ipykernel_15544\\3607342066.py:8: SettingWithCopyWarning: \n",
      "A value is trying to be set on a copy of a slice from a DataFrame\n",
      "\n",
      "See the caveats in the documentation: https://pandas.pydata.org/pandas-docs/stable/user_guide/indexing.html#returning-a-view-versus-a-copy\n",
      "  f_df.drop(f_df[f_df['Index'] > 5].index, inplace=True)\n"
     ]
    }
   ],
   "source": [
    "# drop null rows\n",
    "f_df[\"NonStopwordsQuoteText\"].dropna(inplace=True)\n",
    "\n",
    "# Drop irrelevant quotes -too short after removing stopwords:\n",
    "f_df['QuoteWordCountClean'] = f_df[\"NonStopwordsQuoteText\"].apply(lambda x: len(str(x).split(\" \")))\n",
    "f_df.drop(f_df[(f_df['QuoteWordCountClean'] <= 8)].index, inplace=True)\n",
    "# Drop irrelevant quotes -quotes from the very start of each meeting:\n",
    "f_df.drop(f_df[f_df['Index'] > 5].index, inplace=True)"
   ],
   "metadata": {
    "collapsed": false,
    "pycharm": {
     "name": "#%%\n"
    }
   }
  },
  {
   "cell_type": "code",
   "execution_count": 27,
   "outputs": [
    {
     "name": "stderr",
     "output_type": "stream",
     "text": [
      "C:\\Users\\nitza\\AppData\\Local\\Temp\\ipykernel_15544\\2065749537.py:3: SettingWithCopyWarning: \n",
      "A value is trying to be set on a copy of a slice from a DataFrame\n",
      "\n",
      "See the caveats in the documentation: https://pandas.pydata.org/pandas-docs/stable/user_guide/indexing.html#returning-a-view-versus-a-copy\n",
      "  final_df.drop_duplicates(subset=['NonStopwordsQuoteText'], keep='first', inplace=True)\n"
     ]
    },
    {
     "data": {
      "text/plain": "        PersonID                          Speaker  \\\n38901       48.0  מזכירת הכנסת ירדנה מלר-הורוביץ:   \n90977       48.0  מזכירת הכנסת ירדנה מלר-הורוביץ:   \n110394      48.0  מזכירת הכנסת ירדנה מלר-הורוביץ:   \n147226     488.0                היו\"ר יצחק וקנין:   \n147228   30080.0               רחל עזריה (כולנו):   \n\n                                                QuoteText  \\\n38901   לקריאה שנייה ולקריאה שלישית: הצעת חוק ההתיישנו...   \n90977   לקריאה ראשונה, מטעם הכנסת: הצעת חוק ההוצאה לפו...   \n110394  ברשות יושב-ראש הכנסת, הנני מתכבדת להודיעכם, כי...   \n147226  כהרגלנו ביום רביעי, פותחים בשאילתות דחופות. שא...   \n147228  בוקר טוב, צהריים טובים, תודה על ההזדמנות. בישר...   \n\n                                    NonStopwordsQuoteText  QuoteWordCount  \\\n38901   שנייה ולקריאה שלישית ההתיישנות 5 התשעה–2015 שה...              16   \n90977   מטעם ההוצאה לפועל 49 מניעת עיקול מיטלטלין המשמ...              25   \n110394  ברשות יושב-ראש הנני להודיעכם הונחו שולחן מסקנו...              29   \n147226  כהרגלנו רביעי פותחים בשאילתות דחופות שאילתה דח...              36   \n147228  צהריים ההזדמנות בישראל מסורבות גט בתופעה רחבת ...              20   \n\n        QuoteLen            StartDate   $Type  \n38901        106  2015-07-28 16:00:00  Plenum  \n90977        147  2015-11-30 16:00:00  Plenum  \n110394       176  2015-12-30 11:00:00  Plenum  \n147226       190  2016-03-02 11:00:00  Plenum  \n147228       114  2016-03-02 11:00:00  Plenum  ",
      "text/html": "<div>\n<style scoped>\n    .dataframe tbody tr th:only-of-type {\n        vertical-align: middle;\n    }\n\n    .dataframe tbody tr th {\n        vertical-align: top;\n    }\n\n    .dataframe thead th {\n        text-align: right;\n    }\n</style>\n<table border=\"1\" class=\"dataframe\">\n  <thead>\n    <tr style=\"text-align: right;\">\n      <th></th>\n      <th>PersonID</th>\n      <th>Speaker</th>\n      <th>QuoteText</th>\n      <th>NonStopwordsQuoteText</th>\n      <th>QuoteWordCount</th>\n      <th>QuoteLen</th>\n      <th>StartDate</th>\n      <th>$Type</th>\n    </tr>\n  </thead>\n  <tbody>\n    <tr>\n      <th>38901</th>\n      <td>48.0</td>\n      <td>מזכירת הכנסת ירדנה מלר-הורוביץ:</td>\n      <td>לקריאה שנייה ולקריאה שלישית: הצעת חוק ההתיישנו...</td>\n      <td>שנייה ולקריאה שלישית ההתיישנות 5 התשעה–2015 שה...</td>\n      <td>16</td>\n      <td>106</td>\n      <td>2015-07-28 16:00:00</td>\n      <td>Plenum</td>\n    </tr>\n    <tr>\n      <th>90977</th>\n      <td>48.0</td>\n      <td>מזכירת הכנסת ירדנה מלר-הורוביץ:</td>\n      <td>לקריאה ראשונה, מטעם הכנסת: הצעת חוק ההוצאה לפו...</td>\n      <td>מטעם ההוצאה לפועל 49 מניעת עיקול מיטלטלין המשמ...</td>\n      <td>25</td>\n      <td>147</td>\n      <td>2015-11-30 16:00:00</td>\n      <td>Plenum</td>\n    </tr>\n    <tr>\n      <th>110394</th>\n      <td>48.0</td>\n      <td>מזכירת הכנסת ירדנה מלר-הורוביץ:</td>\n      <td>ברשות יושב-ראש הכנסת, הנני מתכבדת להודיעכם, כי...</td>\n      <td>ברשות יושב-ראש הנני להודיעכם הונחו שולחן מסקנו...</td>\n      <td>29</td>\n      <td>176</td>\n      <td>2015-12-30 11:00:00</td>\n      <td>Plenum</td>\n    </tr>\n    <tr>\n      <th>147226</th>\n      <td>488.0</td>\n      <td>היו\"ר יצחק וקנין:</td>\n      <td>כהרגלנו ביום רביעי, פותחים בשאילתות דחופות. שא...</td>\n      <td>כהרגלנו רביעי פותחים בשאילתות דחופות שאילתה דח...</td>\n      <td>36</td>\n      <td>190</td>\n      <td>2016-03-02 11:00:00</td>\n      <td>Plenum</td>\n    </tr>\n    <tr>\n      <th>147228</th>\n      <td>30080.0</td>\n      <td>רחל עזריה (כולנו):</td>\n      <td>בוקר טוב, צהריים טובים, תודה על ההזדמנות. בישר...</td>\n      <td>צהריים ההזדמנות בישראל מסורבות גט בתופעה רחבת ...</td>\n      <td>20</td>\n      <td>114</td>\n      <td>2016-03-02 11:00:00</td>\n      <td>Plenum</td>\n    </tr>\n  </tbody>\n</table>\n</div>"
     },
     "execution_count": 27,
     "metadata": {},
     "output_type": "execute_result"
    }
   ],
   "source": [
    "# format and save to csv\n",
    "final_df = f_df[['PersonID', 'Speaker', 'QuoteText', 'NonStopwordsQuoteText', 'QuoteWordCount', 'QuoteLen', 'StartDate', '$Type']]\n",
    "final_df.drop_duplicates(subset=['NonStopwordsQuoteText'], keep='first', inplace=True)\n",
    "final_df.to_csv(\"../data/1 - Original data/PreprocessedData.csv\", index=False)\n",
    "final_df.head()"
   ],
   "metadata": {
    "collapsed": false,
    "pycharm": {
     "name": "#%%\n"
    }
   }
  },
  {
   "cell_type": "markdown",
   "source": [
    "## Datasets Analysis\n",
    "Total number of documents"
   ],
   "metadata": {
    "collapsed": false,
    "pycharm": {
     "name": "#%% md\n"
    }
   }
  },
  {
   "cell_type": "code",
   "execution_count": 28,
   "outputs": [
    {
     "data": {
      "text/plain": "13410"
     },
     "execution_count": 28,
     "metadata": {},
     "output_type": "execute_result"
    }
   ],
   "source": [
    "len(original_df['SessionID'].unique())"
   ],
   "metadata": {
    "collapsed": false,
    "pycharm": {
     "name": "#%%\n"
    }
   }
  },
  {
   "cell_type": "markdown",
   "source": [
    "Number of unique speakers"
   ],
   "metadata": {
    "collapsed": false,
    "pycharm": {
     "name": "#%% md\n"
    }
   }
  },
  {
   "cell_type": "code",
   "execution_count": 29,
   "outputs": [
    {
     "data": {
      "text/plain": "72731"
     },
     "execution_count": 29,
     "metadata": {},
     "output_type": "execute_result"
    }
   ],
   "source": [
    "len(original_df['Speaker'].unique())"
   ],
   "metadata": {
    "collapsed": false,
    "pycharm": {
     "name": "#%%\n"
    }
   }
  },
  {
   "cell_type": "markdown",
   "source": [
    "Number of relevant speakers"
   ],
   "metadata": {
    "collapsed": false,
    "pycharm": {
     "name": "#%% md\n"
    }
   }
  },
  {
   "cell_type": "code",
   "execution_count": 30,
   "outputs": [
    {
     "data": {
      "text/plain": "44183"
     },
     "execution_count": 30,
     "metadata": {},
     "output_type": "execute_result"
    }
   ],
   "source": [
    "len(relevant_speakers)"
   ],
   "metadata": {
    "collapsed": false,
    "pycharm": {
     "name": "#%%\n"
    }
   }
  },
  {
   "cell_type": "markdown",
   "source": [
    "Total number of quotes"
   ],
   "metadata": {
    "collapsed": false,
    "pycharm": {
     "name": "#%% md\n"
    }
   }
  },
  {
   "cell_type": "code",
   "execution_count": 31,
   "outputs": [
    {
     "data": {
      "text/plain": "5524811"
     },
     "execution_count": 31,
     "metadata": {},
     "output_type": "execute_result"
    }
   ],
   "source": [
    "original_df.shape[0]"
   ],
   "metadata": {
    "collapsed": false,
    "pycharm": {
     "name": "#%%\n"
    }
   }
  },
  {
   "cell_type": "code",
   "execution_count": 32,
   "outputs": [
    {
     "data": {
      "text/plain": "33113"
     },
     "execution_count": 32,
     "metadata": {},
     "output_type": "execute_result"
    }
   ],
   "source": [
    "f_df.shape[0]"
   ],
   "metadata": {
    "collapsed": false,
    "pycharm": {
     "name": "#%%\n"
    }
   }
  },
  {
   "cell_type": "markdown",
   "source": [
    "Total number of unique quotes"
   ],
   "metadata": {
    "collapsed": false,
    "pycharm": {
     "name": "#%% md\n"
    }
   }
  },
  {
   "cell_type": "code",
   "execution_count": 33,
   "outputs": [
    {
     "data": {
      "text/plain": "count     5524811\nunique    4588365\ntop         הצבעה\nfreq        34735\nName: QuoteText, dtype: object"
     },
     "execution_count": 33,
     "metadata": {},
     "output_type": "execute_result"
    }
   ],
   "source": [
    "original_df['QuoteText'].describe()"
   ],
   "metadata": {
    "collapsed": false,
    "pycharm": {
     "name": "#%%\n"
    }
   }
  },
  {
   "cell_type": "markdown",
   "source": [
    "Number of words per qoute"
   ],
   "metadata": {
    "collapsed": false,
    "pycharm": {
     "name": "#%% md\n"
    }
   }
  },
  {
   "cell_type": "code",
   "execution_count": 34,
   "outputs": [
    {
     "name": "stdout",
     "output_type": "stream",
     "text": [
      "mean: 60.38413915984658\n",
      "min: 16\n",
      "max: 150\n"
     ]
    }
   ],
   "source": [
    "print(f\"mean: {f_df['QuoteWordCount'].mean()}\")\n",
    "print(f\"min: {f_df['QuoteWordCount'].min()}\")\n",
    "print(f\"max: {f_df['QuoteWordCount'].max()}\")"
   ],
   "metadata": {
    "collapsed": false,
    "pycharm": {
     "name": "#%%\n"
    }
   }
  },
  {
   "cell_type": "markdown",
   "source": [
    "Stats on quote length"
   ],
   "metadata": {
    "collapsed": false,
    "pycharm": {
     "name": "#%% md\n"
    }
   }
  },
  {
   "cell_type": "code",
   "execution_count": 35,
   "outputs": [
    {
     "name": "stdout",
     "output_type": "stream",
     "text": [
      "Average quote: 333 characters.\n",
      "\n",
      "Shortest quote: 72 characters. Quotes is: \n",
      "2943777    הם הביאו צו לפני חצי שנה שבעצם פקע ביוני והם ה...\n",
      "Name: QuoteText, dtype: object\n",
      "\n",
      "Longest quote: 1024 characters Quote is: \n",
      "2500830    \"נִפָּגֵשָׁה בִּקְצֵה הַמִּשְׁעוֹל/ כּוֹכָבִים...\n",
      "Name: QuoteText, dtype: object\n"
     ]
    }
   ],
   "source": [
    "print(f\"Average quote: {int(f_df['QuoteLen'].mean())} characters.\\n\")\n",
    "short_quote = f_df[f_df['QuoteLen'] == f_df['QuoteLen'].min()][\"QuoteText\"].head(1)\n",
    "long_quote = f_df[f_df['QuoteLen'] == f_df['QuoteLen'].max()][\"QuoteText\"].head(1)\n",
    "print(f\"Shortest quote: {f_df['QuoteLen'].min()} characters. Quotes is: \\n{short_quote}\\n\")\n",
    "print(f\"Longest quote: {f_df['QuoteLen'].max()} characters Quote is: \\n{long_quote}\")\n"
   ],
   "metadata": {
    "collapsed": false,
    "pycharm": {
     "name": "#%%\n"
    }
   }
  },
  {
   "cell_type": "markdown",
   "source": [
    "## Word & Bigram Frequency Analysis"
   ],
   "metadata": {
    "collapsed": false,
    "pycharm": {
     "name": "#%% md\n"
    }
   }
  },
  {
   "cell_type": "markdown",
   "source": [],
   "metadata": {
    "collapsed": false,
    "pycharm": {
     "name": "#%% md\n"
    }
   }
  },
  {
   "cell_type": "code",
   "execution_count": 3,
   "outputs": [],
   "source": [
    "stop_words = get_stopwords()\n",
    "text = f_df[\"QuoteText\"]"
   ],
   "metadata": {
    "collapsed": false,
    "pycharm": {
     "name": "#%%\n"
    }
   }
  },
  {
   "cell_type": "code",
   "execution_count": 37,
   "outputs": [
    {
     "data": {
      "text/plain": "<AxesSubplot:>"
     },
     "execution_count": 37,
     "metadata": {},
     "output_type": "execute_result"
    },
    {
     "data": {
      "text/plain": "<Figure size 432x288 with 1 Axes>",
      "image/png": "[encoded data removed]"
     },
     "metadata": {
      "needs_background": "light"
     },
     "output_type": "display_data"
    }
   ],
   "source": [
    "f_df['QuoteWordCount'].hist(bins=range(0, 200, 10))"
   ],
   "metadata": {
    "collapsed": false,
    "pycharm": {
     "name": "#%%\n"
    }
   }
  },
  {
   "cell_type": "code",
   "execution_count": 5,
   "outputs": [
    {
     "data": {
      "text/plain": "<Figure size 432x288 with 1 Axes>",
      "image/png": "[encoded data removed]"
     },
     "metadata": {
      "needs_background": "light"
     },
     "output_type": "display_data"
    },
    {
     "name": "stdout",
     "output_type": "stream",
     "text": [
      "['החינוך', 'הדברים', 'העבודה', 'הבריאות', 'צריכים', 'הקורונה', 'האוצר', 'הפנים', 'הכלכלה', 'בישראל', 'הכספים', 'איתנו', 'נשים', 'הציבור', 'נתחיל', 'הרווחה', 'במסגרת', 'יכולים', 'הסביבה', 'דיונים', 'המשרד', 'הקודם', 'אותנו', 'העניין', 'אומרת']\n"
     ]
    },
    {
     "data": {
      "text/plain": "<Figure size 432x288 with 1 Axes>",
      "image/png": "[encoded data removed]"
     },
     "metadata": {
      "needs_background": "light"
     },
     "output_type": "display_data"
    }
   ],
   "source": [
    "plot_top_n_words_hist(text, 25, stop_words, plot_non_stopwords=True, print_non_stopwords=True)"
   ],
   "metadata": {
    "collapsed": false,
    "pycharm": {
     "name": "#%%\n"
    }
   }
  },
  {
   "cell_type": "markdown",
   "source": [],
   "metadata": {
    "collapsed": false,
    "pycharm": {
     "name": "#%% md\n"
    }
   }
  },
  {
   "cell_type": "code",
   "execution_count": 4,
   "outputs": [
    {
     "name": "stdout",
     "output_type": "stream",
     "text": [
      "[('סדר היום', 591), ('התשע 2016', 580), ('יושב ראש', 573), ('היושב ראש', 494), ('התשפ 2021', 401), ('התשע 2017', 383), ('על ידי', 306), ('התשע 2018', 289), ('התש 2020', 225), ('התשע 2015', 185), ('ליושב ראש', 140), ('התשפ 2020', 134), ('מנכ לית', 122), ('על פי', 110), ('מאוד מאוד', 106), ('יושבת ראש', 88), ('בסדר היום', 80), ('11 00', 80), ('לסדר היום', 74), ('כיושב ראש', 65), ('כהן פארן', 65), ('אי אפשר', 64), ('התשפ 2022', 63), ('אחר כך', 50), ('12 00', 50), ('התשע 2014', 47), ('הבין לאומי', 45), ('כל כך', 45), ('מועלם רפאלי', 45), ('על מנת', 42), ('10 00', 42), ('10 000', 40), ('המנכ לית', 40), ('חוק יסוד', 39), ('היושבת ראש', 35), ('מנכ לים', 34), ('50 000', 33), ('ואחר כך', 31), ('14 00', 31), ('בר לב', 30), ('תל אביב', 28), ('מנכ לי', 27), ('מיושב ראש', 27), ('16 00', 27), ('13 00', 27), ('100 000', 26), ('הח כים', 26), ('12 2016', 26), ('סעיף סעיף', 25), ('20 000', 25), ('סוף סוף', 24), ('10 30', 24), ('למנכ לית', 23), ('שיושב ראש', 23), ('2017 2018', 23), ('40 000', 22), ('המנכ לים', 22), ('תשפ 2021', 22), ('סדר יומנו', 21), ('בית המשפט', 21), ('12 30', 21), ('ארצות הברית', 19), ('200 000', 19), ('סמנכ לית', 19), ('11 30', 19), ('חד משמעית', 19), ('15 00', 19), ('ההיי טק', 19), ('יושב הראש', 19), ('כיושבת ראש', 19), ('לאט לאט', 18), ('הבין לאומית', 18), ('כהן קדמי', 18), ('11 2017', 18), ('שאי אפשר', 17), ('15 000', 17), ('30 000', 17), ('10 2017', 17), ('והצ רקסים', 17), ('11 2018', 17), ('13 30', 16), ('בין לאומיים', 16), ('בעל פה', 16), ('הגמ חים', 16), ('09 00', 16), ('ויושב ראש', 15), ('התשל 1975', 15), ('אביב יפו', 15), ('כחול לבן', 15), ('בארצות הברית', 15), ('הקב סים', 15), ('בתל אביב', 15), ('בדרך כלל', 15), ('בן גוריון', 15), ('12 2018', 15), ('עורכי הדין', 14), ('שהיושב ראש', 14), ('יושבת הראש', 14), ('היום יום', 14), ('150 000', 14), ('דו חות', 14), ('על כך', 14), ('11 2016', 14), ('קוז ינוב', 14), ('התשע 2013', 13), ('חד פעמי', 13), ('שלושה ארבעה', 13), ('400 000', 13), ('70 000', 13), ('הלהט בית', 13), ('12 2017', 13), ('10 2021', 13), ('300 000', 12), ('והצ רקסיים', 12), ('יום יום', 12), ('מסדר היום', 12), ('להט בים', 12), ('09 05', 12), ('הבין משרדית', 12), ('אג נדה', 12), ('10 10', 12), ('האג נדה', 12), ('המצ ינג', 12), ('שניים שלושה', 12), ('ביום יום', 12), ('10 2018', 12), ('עורך דין', 11), ('ואי אפשר', 11), ('24 000', 11), ('התשי 1959', 11), ('2018 2017', 11), ('שבועיים שלושה', 11), ('התשע 2019', 11), ('10 05', 10), ('בן ארי', 10), ('12 000', 10), ('שתיים שלוש', 10), ('09 06', 10), ('התש 2009', 10), ('הצ קים', 10), ('ועל ידי', 10), ('בסך הכול', 10), ('11 16', 10), ('בין לאומית', 10), ('היי טק', 10), ('מצ ינג', 10), ('תשע 2017', 10), ('התש 2019', 10), ('60 000', 9), ('ליושבת ראש', 9), ('לוי אבקסיס', 9), ('10 45', 9), ('תשע 2016', 9), ('בן צור', 9), ('12 20', 9), ('הסוציו אקונומי', 9), ('שעל פי', 9), ('המתנ סים', 9), ('21 00', 9), ('25 000', 8), ('10 07', 8), ('2015 2016', 8), ('בית הספר', 8), ('עורכי דין', 8), ('הטרנסג נדרית', 8), ('500 000', 8), ('בין משרדית', 8), ('בעזרת השם', 8), ('10 03', 8), ('31 10', 8), ('שב חים', 8), ('gov il', 8), ('18 000', 8), ('11 10', 8), ('שבוע שבועיים', 8), ('חודשיים שלושה', 8), ('הדו חות', 8), ('שאשא ביטון', 8), ('מור יוסף', 8), ('15 11', 8), ('בהיי טק', 8), ('10 15', 8), ('למתנ סים', 8), ('ומנכ לית', 8), ('10 40', 8), ('הבין לאומיים', 8), ('14 2017', 8), ('סדר יום', 8), ('22 2ב', 8), ('הממלכתי דתי', 8), ('המון המון', 8), ('התל נים', 8), ('מלש בים', 8), ('יושבי ראש', 8), ('250 000', 8), ('דיידה מכר', 8), ('17 00', 7), ('13 12', 7), ('10 20', 7), ('350 000', 7), ('11 12', 7), ('בין לאומי', 7), ('התשמ 1985', 7), ('11 35', 7), ('09 04', 7), ('מלר הורוביץ', 7), ('נחמיאס ורבין', 7), ('קואליציה אופוזיציה', 7), ('ממנכ לית', 7), ('10 01', 7), ('11 20', 7), ('באג נדה', 7), ('22 11', 7), ('שעה תיקון', 7), ('12 10', 7), ('לח כים', 7), ('600 000', 7), ('הבין משרדי', 7), ('45 000', 7), ('התשל 1979', 7), ('4653 20', 7), ('מג אר', 7), ('14 000', 7), ('בן צבי', 7), ('pet ct', 7), ('נוספות תיקון', 7), ('2022 2021', 7), ('11 2021', 7), ('02 2022', 7), ('על סדר', 6), ('התשע 2012', 6), ('27 000', 6), ('בר אילן', 6), ('11 08', 6), ('30 40', 6), ('התשל 1973', 6), ('חוץ בנקאיות', 6), ('11 45', 6), ('שנה שנתיים', 6), ('טו טו', 6), ('או טו', 6), ('08 00', 6), ('80 000', 6), ('32 000', 6), ('שסוף סוף', 6), ('09 30', 6), ('11 32', 6), ('השב חים', 6), ('דו שנתי', 6), ('החשכ לית', 6), ('10 35', 6), ('11 15', 6), ('התשס 2008', 6), ('בתי המשפט', 6), ('11 34', 6), ('התשל 1977', 6), ('לחוק יסוד', 6), ('18 00', 6), ('14 30', 6), ('21 11', 6), ('טרנסג נדרים', 6), ('19 00', 6), ('28 11', 6), ('18 30', 6), ('17 000', 6), ('11 05', 6), ('מזכ לית', 6), ('רב קו', 6), ('בחוץ לארץ', 6), ('24 2017', 6), ('אחד אחד', 6), ('לבית המשפט', 6), ('10 11', 6), ('החברתי כלכלי', 6), ('תל נים', 6), ('16 2018', 6), ('תת ניצב', 6), ('תמנו שטה', 6), ('המב דים', 6), ('המנמ רים', 6), ('התקש חים', 6), ('חד פעמיים', 6), ('2021 2022', 6), ('16 30', 5), ('חד הוריות', 5), ('חמש שש', 5), ('16 000', 5), ('והצ רקסי', 5), ('בלתי אפשרי', 5), ('10 12', 5), ('14 12', 5), ('פרוקצ יה', 5), ('חוץ מוסדיים', 5), ('000 000', 5), ('11 50', 5), ('בשנה שנתיים', 5), ('13 06', 5), ('אל פחם', 5), ('10 32', 5), ('מהח כים', 5), ('10 06', 5), ('09 09', 5), ('20 00', 5), ('חמישה שישה', 5), ('לסדר יום', 5), ('180 000', 5), ('12 05', 5), ('אי הבנה', 5), ('35 000', 5), ('רב שנתית', 5), ('12 07', 5), ('שלוש ארבע', 5), ('ומלכ רים', 5), ('יוג ין', 5), ('בית חולים', 5), ('לארצות הברית', 5), ('21 2016', 5), ('סוציו אקונומי', 5), ('900 000', 5), ('10 08', 5), ('13 45', 5), ('קריית גת', 5), ('27 11', 5), ('בג צים', 5), ('מתנ סים', 5), ('16 2017', 5), ('באר שבע', 5), ('85 000', 5), ('חבר הכנסת', 5), ('13 10', 5), ('12 18', 5), ('20 2017', 5), ('12 40', 5), ('21 2017', 5), ('10 50', 5), ('09 15', 5), ('בבתי הספר', 5), ('תת אלוף', 5), ('אין ספור', 5), ('26 2017', 5), ('24 10', 5), ('20 11', 5), ('25 12', 5), ('15 2018', 5), ('תלת ממדית', 5), ('הקדם צבאיות', 5), ('מע אר', 5), ('ישראל ארגנטינה', 5), ('לג וליה', 5), ('27 10', 5), ('הערבית בדואית', 5), ('24 00', 5), ('העשרים ושלוש', 5), ('שב זום', 5), ('החדש בידוד', 5), ('אלרעי פרייס', 5), ('תשפ 2022', 5), ('בארץ ישראל', 4), ('התשס 2000', 4), ('חד משמעי', 4), ('מלכ רים', 4), ('הבה דים', 4), ('09 37', 4), ('אי פעם', 4), ('20 30', 4), ('התשל 1971', 4), ('כוח אדם', 4), ('משא ומתן', 4), ('פולו אפ', 4), ('700 000', 4), ('און ליין', 4), ('12 35', 4), ('אופוזיציה קואליציה', 4), ('אי מתן', 4), ('סנדוויצ ים', 4), ('ביטחוניים לאומיים', 4), ('לאומי אזרחי', 4), ('בבית הספר', 4), ('16 2016', 4), ('בני אדם', 4), ('התשמ 1981', 4), ('28 2016', 4), ('21 10', 4), ('התשע 2011', 4), ('או קיי', 4), ('פארא רפואיים', 4), ('15 30', 4), ('קב סים', 4), ('הדו שנתי', 4), ('ועל מנת', 4), ('2573 20', 4), ('12 12', 4), ('התש 1948', 4), ('בן אדם', 4), ('הנש מים', 4), ('30 2016', 4), ('בג סר', 4), ('מהיושב ראש', 4), ('הלא מוכרים', 4), ('לא מוכרים', 4), ('בתי ספר', 4), ('המו פים', 4), ('11 38', 4), ('12 11', 4), ('ארבעה חמישה', 4), ('20 15', 4), ('התשנ 1996', 4), ('די בי', 4), ('וב 11', 4), ('74 000', 4), ('עורך הדין', 4), ('בבני אדם', 4), ('120 000', 4), ('לבית חולים', 4), ('וליושב ראש', 4), ('09 31', 4), ('עורכת דין', 4), ('75 000', 4), ('עורכת הדין', 4), ('23 11', 4), ('12 33', 4), ('3044 20', 4), ('בכ 15', 4), ('20 12', 4), ('חודש חודשיים', 4), ('והיושב ראש', 4), ('סדר יומה', 4), ('פרה רפואיים', 4), ('11 000', 4), ('שעה שעה', 4), ('הרב קו', 4), ('ועל פי', 4), ('שמאוד מאוד', 4), ('הלהט בים', 4), ('13 2017', 4), ('דה מרקר', 4), ('26 11', 4), ('המאוד מאוד', 4), ('10 39', 4), ('12 17', 4), ('שנתיים שלוש', 4), ('לבית החולים', 4), ('בבית החולים', 4), ('תשע תשע', 4), ('14 10', 4), ('בין עירוניים', 4), ('09 10', 4), ('החוץ בנקאיים', 4), ('הוואוצ רים', 4), ('22 00', 4), ('10 02', 4), ('3796 20', 4), ('17 10', 4), ('מדז יבוז', 4), ('התשי 1951', 4), ('14 11', 4), ('תורג מן', 4), ('21 12', 4), ('11 36', 4), ('26 2018', 4), ('הש לט', 4), ('10 04', 4), ('עתיד תל', 4), ('ישראל ביתנו', 4), ('תש 2020', 4), ('אבו שחאדה', 4), ('11 2020', 4), ('ראייסי כרכבי', 4), ('הדו גלגליים', 4), ('אלח יר', 4), ('2019 2020', 4), ('שעה הגבלת', 4), ('פינג פונג', 4), ('10 21', 4), ('2312 24', 4), ('הסורי אפריקאי', 4), ('12 2021', 4), ('אי תחולת', 4), ('15 10', 3), ('09 36', 3), ('וב 10', 3), ('ויושבת ראש', 3), ('64 000', 3), ('חוץ תקציביות', 3), ('13 55', 3), ('10 37', 3), ('12 2015', 3), ('בדו חות', 3), ('60 40', 3), ('11 07', 3), ('וכ 400', 3), ('09 07', 3), ('חכ 71', 3), ('09 08', 3), ('אי אמון', 3), ('וין וין', 3), ('22 2016', 3), ('השתע 2015', 3), ('13 000', 3), ('הג וינט', 3), ('12 15', 3), ('אי בהירות', 3), ('14 15', 3), ('10 41', 3), ('שמנכ לית', 3), ('חוץ בנקאי', 3), ('התשנ 1995', 3), ('בין לאומיות', 3), ('נדל ני', 3), ('דו שיח', 3), ('20 2016', 3), ('בן ראובן', 3), ('55 000', 3), ('דה פקטו', 3), ('התשנ 1998', 3), ('12 03', 3), ('במתנ סים', 3), ('23 00', 3), ('27 2016', 3), ('בהלצ ין', 3), ('התש 1989', 3), ('30 2017', 3), ('09 03', 3), ('12 37', 3), ('11 2015', 3), ('10 38', 3), ('14 05', 3), ('קופות החולים', 3), ('14 20', 3), ('10 09', 3), ('11 09', 3), ('12 480', 3), ('14 13', 3), ('26 2016', 3), ('11 01', 3), ('12 19', 3), ('איי די', 3), ('נקודה נקודה', 3), ('03 00', 3), ('12 55', 3), ('ברוך השם', 3), ('חפ 1020', 3), ('התשנ 1994', 3), ('2011 2014', 3), ('חצי חצי', 3), ('25 10', 3), ('מיוחדים תיקון', 3), ('התשמ 1982', 3), ('לאג נדה', 3), ('לוחות הזמנים', 3), ('10 51', 3), ('90 000', 3), ('יום יומיים', 3), ('מבאר שבע', 3), ('שכ 10', 3), ('17 30', 3), ('19 12', 3), ('נגב גליל', 3), ('בהלול מינקובסקי', 3), ('800 000', 3), ('הבלתי פורמלי', 3), ('שהמנכ לית', 3), ('כמנכ לית', 3), ('תשס 2000', 3), ('28 12', 3), ('בית משפט', 3), ('09 02', 3), ('קב טים', 3), ('פר אקסלנס', 3), ('ממלא מקום', 3), ('הבין לאומיות', 3), ('19 000', 3), ('26 000', 3), ('25 2017', 3), ('15 2017', 3), ('28 2017', 3), ('אין סוף', 3), ('3581 20', 3), ('הרבה הרבה', 3), ('3096 20', 3), ('19 2017', 3), ('22 2017', 3), ('02 00', 3), ('בית דין', 3), ('מבתי הספר', 3), ('למנכ לים', 3), ('התשנ 1999', 3), ('הציבור מזון', 3), ('התשס 2003', 3), ('שלאט לאט', 3), ('צבא חברה', 3), ('בג נין', 3), ('וב 2017', 3), ('אל בי', 3), ('בתי החולים', 3), ('12 04', 3), ('בית החולים', 3), ('22 000', 3), ('שבן אדם', 3), ('בשתיים שלוש', 3), ('09 35', 3), ('22 2018', 3), ('09 20', 3), ('26 10', 3), ('ביושב ראש', 3), ('11 11', 3), ('מכבים רעות', 3), ('משרד משרד', 3), ('התשכ 1968', 3), ('260 000', 3), ('09 40', 3), ('מהאג נדה', 3), ('הפסיכו סוציאלי', 3), ('ממלכתי דתי', 3), ('פיצויים תיקון', 3), ('הכל כך', 3), ('היום יומיים', 3), ('27 2018', 3), ('wi fi', 3), ('יום יומית', 3), ('ירושלים תל', 3), ('אל יר', 3), ('לכ 000', 3), ('05 00', 3), ('10 18', 3), ('דד ליין', 3), ('11 04', 3), ('13 11', 3), ('2020 2019', 3), ('מפא יניקית', 3), ('תשנ 1994', 3), ('תקש חים', 3), ('אי ודאות', 3), ('מה 10', 3), ('המכת זיות', 3), ('עבודה תיקון', 3), ('תקנה תקנה', 3), ('שעה הגבלות', 3), ('וטיסות תיקון', 3), ('באדיס אבבה', 3), ('בוקק חמי', 3), ('20 19', 3), ('ישראל ארה', 3), ('בני האדם', 3), ('הגבלות תיקון', 3), ('טור פז', 3), ('צה לי', 3), ('07 00', 3), ('אל על', 3), ('28 26', 3), ('63 62', 3), ('פיי בוקס', 3), ('קורצ אק', 3), ('אט אט', 3), ('שונות הוראת', 3), ('בתום לב', 3), ('149 חברות', 3), ('ניצב משנה', 3), ('01 2022', 3), ('באי ביטחון', 3), ('1994 24', 3), ('2997 24', 3), ('חד הורית', 2), ('האזרחי לאומי', 2), ('בג ודו', 2), ('אי יישום', 2), ('הציבורי קהילתי', 2), ('אינפלציה שיעורי', 2), ('237 15', 2), ('29 12', 2), ('11 37', 2), ('שבדרך כלל', 2), ('ובדרך כלל', 2), ('12 2014', 2), ('09 18', 2), ('התשע עשרה', 2), ('קופת חולים', 2), ('בפתח תקווה', 2), ('23 000', 2), ('היושבי ראש', 2), ('10 36', 2), ('בבית ספרי', 2), ('13 35', 2), ('התשס 2004', 2), ('שב 10', 2), ('שב 11', 2), ('13 07', 2), ('36 000', 2), ('תשע 2015', 2), ('10 13', 2), ('באום אל', 2), ('אחת אחת', 2), ('שב 21', 2), ('רב גונדר', 2), ('2000 2008', 2), ('צה ליות', 2), ('איי איי', 2), ('70 80', 2), ('00 14', 2), ('11 06', 2), ('21 30', 2), ('44 000', 2), ('2012 2016', 2), ('החכ לים', 2), ('11 22', 2), ('העובד מעביד', 2), ('160 000', 2), ('פעם פעמיים', 2), ('13 21', 2), ('12 34', 2), ('כארבעה חמישה', 2), ('42 000', 2), ('43 000', 2), ('10 43', 2), ('מארצות הברית', 2), ('בית ספר', 2), ('11 40', 2), ('בו זמנית', 2), ('וב 2015', 2), ('20 25', 2), ('446 16', 2), ('והמתנ סים', 2), ('בבתי חולים', 2), ('בקב סים', 2), ('30 20', 2), ('2779 20', 2), ('הראל פיש', 2), ('וב 16', 2), ('15 2016', 2), ('166 20', 2), ('התת קרקעיות', 2), ('תת קרקעיות', 2), ('דין וחשבון', 2), ('השתע 2016', 2), ('סדר גודל', 2), ('לבית הספר', 2), ('הארד קור', 2), ('נת צים', 2), ('התשס 2006', 2), ('שב 20', 2), ('יהושע ברוורמן', 2), ('גמל קופת', 2), ('אישי תיקון', 2), ('546 16', 2), ('ממש ממש', 2), ('הערבית הבדואית', 2), ('מה 16', 2), ('לקופות החולים', 2), ('חד שלבי', 2), ('התשס 2005', 2), ('ובתי הספר', 2), ('בית הדין', 2), ('במזרח התיכון', 2), ('רב מערכתי', 2), ('07 2016', 2), ('בבית ספר', 2), ('מיוחדות הוראת', 2), ('60 70', 2), ('לב רן', 2), ('וב 29', 2), ('2013 2014', 2), ('גוז נסקי', 2), ('304 0095497', 2), ('בנת צים', 2), ('לבתי ספר', 2), ('תת ועדה', 2), ('טי וי', 2), ('110 000', 2), ('08 45', 2), ('תיקון תיקון', 2), ('לארץ ישראל', 2), ('10 2016', 2), ('וח כים', 2), ('באחת עשרה', 2), ('2011 2015', 2), ('2240 20', 2), ('שמאות אלפי', 2), ('מאות אלפי', 2), ('100 200', 2), ('אל זרקא', 2), ('חברתי כלכלי', 2), ('136 12', 2), ('יינג ים', 2), ('גמ חים', 2), ('פרק פרק', 2), ('16 11', 2), ('09 12', 2), ('ציבוריים תיקון', 2), ('לבית משפט', 2), ('בבתי סוהר', 2), ('הצ יקמוק', 2), ('29 11', 2), ('מה 22', 2), ('ברוך הוא', 2), ('פסק דין', 2), ('12 45', 2), ('65 000', 2), ('בכ 50', 2), ('10 42', 2), ('11 25', 2), ('הסוציו אקונומיות', 2), ('26 12', 2), ('אגרות הוראת', 2), ('אין סופיים', 2), ('שב 26', 2), ('חד מיניים', 2), ('2385 20', 2), ('לבתי הספר', 2), ('2016 2017', 2), ('בלתי מתקבל', 2), ('סך הכול', 2), ('11 39', 2), ('ומנכ לים', 2), ('נושא נושא', 2), ('תל חי', 2), ('אג נדות', 2), ('מהותי מהותי', 2), ('לשניים שלושה', 2), ('אל חיראן', 2), ('דין לקוח', 2), ('18 2017', 2), ('19 30', 2), ('שב 30', 2), ('בז נבה', 2), ('בדה מרקר', 2), ('03 30', 2), ('09 11', 2), ('וחבר הכנסת', 2), ('בבתי משפט', 2), ('13 37', 2), ('16 17', 2), ('02 6408931', 2), ('72 17', 2), ('11 72', 2), ('באין ספור', 2), ('בבאר שבע', 2), ('מה 24', 2), ('התשמ 1984', 2), ('בבית משפט', 2), ('פינוי בינוי', 2), ('שהח כים', 2), ('22 54', 2), ('טרנסג נדריות', 2), ('14 18', 2), ('רואה חשבון', 2), ('וג מאל', 2), ('התשכ 1969', 2), ('בן דוד', 2), ('1135 20', 2), ('178 17', 2), ('11 178', 2), ('חדשים ישנים', 2), ('09 33', 2), ('ובית המשפט', 2), ('51 000', 2), ('שב 2016', 2), ('הכול כך', 2), ('החוץ בנקאיות', 2), ('לחוץ לארץ', 2), ('בן שימול', 2), ('3242 20', 2), ('התשנ 1992', 2), ('04 30', 2), ('חד צדדי', 2), ('הסמנכ ליות', 2), ('חיג אב', 2), ('27 2017', 2), ('צמודי גדר', 2), ('450 000', 2), ('תתי נושאים', 2), ('431 17', 2), ('11 431', 2), ('ארוכת טווח', 2), ('הדו שלבי', 2), ('3830 20', 2), ('המו לים', 2), ('יום יומי', 2), ('הות מל', 2), ('אורח חבר', 2), ('פוסט טראומה', 2), ('28 000', 2), ('שאחר כך', 2), ('הרב שנתית', 2), ('בבית המשפט', 2), ('לכוח אדם', 2), ('סיוע הקמת', 2), ('חד חד', 2), ('10 17', 2), ('אי הבנות', 2), ('אל קרוויין', 2), ('מפעם פעמיים', 2), ('שנה שנה', 2), ('עוטף עזה', 2), ('3902 20', 2), ('18 2018', 2), ('לג מיע', 2), ('400 500', 2), ('וב 21', 2), ('אל אקצא', 2), ('13 09', 2), ('בתי משפט', 2), ('בי דין', 2), ('בבתי הדין', 2), ('בתי הדין', 2), ('אי חוקיות', 2), ('וחד משמעית', 2), ('לביטול תיקון', 2), ('220 000', 2), ('23 10', 2), ('09 13', 2), ('22 10', 2), ('29 2018', 2), ('895 17', 2), ('11 895', 2), ('13 15', 2), ('3029 20', 2), ('רחוקים רחוקים', 2), ('אגרות תיקון', 2), ('12 58', 2), ('25 11', 2), ('העות מאנית', 2), ('20 744', 2), ('טפסים תיקון', 2), ('11 18', 2), ('היום הצעת', 2), ('18 12', 2), ('4143 20', 2), ('וב 2021', 2), ('הבין עירוניים', 2), ('שו נה', 2), ('13 27', 2), ('המלש בים', 2), ('התשנ 1993', 2), ('30 2018', 2), ('הנת צים', 2), ('הר שפי', 2), ('10 25', 2), ('560 000', 2), ('20 2018', 2), ('ללהט בים', 2), ('10 55', 2), ('בן בת', 2), ('ויקהל פקודי', 2), ('15 25', 2), ('נג אר', 2), ('באי ודאות', 2), ('לחפ קים', 2), ('525 000', 2), ('31 12', 2), ('אב לאומית', 2), ('גוף גוף', 2), ('בלמ סי', 2), ('16 90', 2), ('17 90', 2), ('בדה לגיטימציה', 2), ('מה 30', 2), ('19 2018', 2), ('בן דהן', 2), ('מג דים', 2), ('חנה כרכור', 2), ('כטב מים', 2), ('המטו אונקולוגיה', 2), ('מה 21', 2), ('הצה ליים', 2), ('והמנכ לית', 2), ('הבית ספרי', 2), ('מטות מסעי', 2), ('475 000', 2), ('צעד צעד', 2), ('מה 15', 2), ('אן אי', 2), ('הדי אן', 2), ('לך לך', 2), ('תשע 2018', 2), ('09 34', 2), ('מה 11', 2), ('ריצ רד', 2), ('2018 1246', 2), ('היועמ שים', 2), ('30 11', 2), ('1487 20', 2), ('5081 20', 2), ('12 36', 2), ('שב 22', 2), ('21 22', 2), ('248 18', 2), ('13 248', 2), ('12 13', 2), ('והח כיות', 2), ('בלתי רגילה', 2), ('29 10', 2), ('10 22', 2), ('בין משרדי', 2), ('באי הסכמות', 2), ('שני שלישים', 2), ('הכלכלית חברתית', 2), ('08 47', 2), ('וצ קים', 2), ('מהמנכ לית', 2), ('13 03', 2), ('התשנ 1997', 2), ('ציבוריים פרטיים', 2), ('וה crs', 2), ('554 21', 2), ('חד תע', 2), ('270 000', 2), ('15 27', 2), ('330 000', 2), ('יושבי הראש', 2), ('מלא מלא', 2), ('בריצ רץ', 2), ('מסמנכ לית', 2), ('ממנכ לי', 2), ('וחצי חודשיים', 2), ('הדו שיח', 2), ('2016 2019', 2), ('שתים עשרה', 2), ('במרס אפריל', 2), ('בינואר פברואר', 2), ('במאי יוני', 2), ('והמנכ לים', 2), ('בתקש חים', 2), ('אי שם', 2), ('וב 15', 2), ('טרנסג נדר', 2), ('דה לגיטימציה', 2), ('שכ 50', 2), ('שההיי טק', 2), ('כוח האדם', 2), ('28 20', 2), ('העתק הדבק', 2), ('הסדר היום', 2), ('אי קבלת', 2), ('להב הרצנו', 2), ('אל חיר', 2), ('לשלושה ארבעה', 2), ('מעצרים מכסת', 2), ('בכ 10', 2), ('וע דיר', 2), ('2017 2019', 2), ('2019 2016', 2), ('שישה שבעה', 2), ('התשס 2009', 2), ('130 000', 2), ('פתיחה סגירה', 2), ('10 2020', 2), ('אל נסרה', 2), ('המ מים', 2), ('363 000', 2), ('469 000', 2), ('1121 23', 2), ('1058 23', 2), ('הדו לאומית', 2), ('מג נין', 2), ('לצ ילה', 2), ('שצ ילה', 2), ('רחוק רחוק', 2), ('העשרים וארבע', 2), ('אל מרג', 2), ('2020 2021', 2), ('רב מגדרית', 2), ('בג דיידה', 2), ('427 20', 2), ('16 427', 2), ('שעה הידוק', 2), ('920 000', 2), ('האג חים', 2), ('התשפ א2021', 2), ('מגן תלם', 2), ('17 15', 2), ('בחוק יסוד', 2), ('סון פלדמן', 2), ('2021 2020', 2), ('13 2021', 2), ('שעה בידוד', 2), ('התשפ 2012', 2), ('מטפלות מחנכות', 2), ('2024 2023', 2), ('79 80', 2), ('תשפ 21', 2), ('115 114', 2), ('26 28', 2), ('דו גלגליים', 2), ('בפוסט טראומה', 2), ('חפר מנשה', 2), ('ולמנכ לית', 2), ('דיבנר כרמל', 2), ('ולאי ביטחון', 2), ('1492 24', 2), ('2286 24', 2), ('17 11', 2), ('להיי טק', 2), ('2522 24', 2), ('והצ רקסיות', 2), ('2276 24', 2), ('81 24', 2), ('2796 24', 2), ('28 02', 2), ('03 2022', 2), ('מבית הספר', 1), ('הודו ישראל', 1), ('השלושים ושש', 1), ('רע תע', 1), ('26 13', 1), ('על גבי', 1), ('תשע 27', 1), ('בכ 60', 1), ('מלכ רית', 1), ('וש יט', 1), ('שליטה תיקון', 1), ('מלונית 20', 1), ('תכנית אב', 1), ('שב לו', 1), ('פחת הוראת', 1), ('פחת תיקון', 1), ('כעורך דין', 1), ('אי שוויון', 1), ('חברתית כלכלית', 1), ('אינג נרים', 1), ('העל תיכונית', 1), ('מסתננים עובדים', 1), ('מהגרים מסתננים', 1), ('זרים מהגרים', 1), ('במ נהלת', 1), ('14 22', 1), ('אלג יריה', 1), ('2012 2014', 1), ('הגמ רים', 1), ('הממשלתיים הכלליים', 1), ('טרי טרי', 1), ('106 761', 1), ('מהמל ות', 1), ('ששישי שבת', 1), ('שחברי הכנסת', 1), ('262 320', 1), ('סופי סופי', 1), ('לבלתי אפשרית', 1), ('כנסת אורח', 1), ('מלרד ים', 1), ('חקלאי תעשייתי', 1), ('287 000', 1), ('בתי המלון', 1), ('באי בטחון', 1), ('הדו מהותיים', 1), ('וה 60', 1), ('וחצי שניים', 1), ('מחוק יסוד', 1), ('בני נוער', 1), ('וכ 540', 1), ('וכ 204', 1), ('באי הגשת', 1), ('לכ 500', 1), ('התשל 1976', 1), ('הלא המתקרבת', 1), ('הנ ספים', 1), ('העניין מדינת', 1), ('לחשכ לית', 1), ('למנכ ליות', 1), ('הנדל נית', 1), ('לחוק תיקון', 1), ('פוטו תרפיה', 1), ('פוטו תרפיים', 1), ('הפוטו תרפיים', 1), ('וה ות', 1), ('ודו חיים', 1), ('שרת החוץ', 1), ('36א א1', 1), ('מתל אביב', 1), ('מז מן', 1), ('בר השגה', 1), ('22 216', 1), ('בז רגון', 1), ('שב 2015', 1), ('לאום אל', 1), ('מאום אל', 1), ('אום אל', 1), ('הרב דורי', 1), ('המצו וה', 1), ('שמ תמיד', 1), ('21 2010', 1), ('אי צה', 1), ('87 88', 1), ('ולכ 250', 1), ('העו סים', 1), ('התש 1949', 1), ('שהג וינט', 1), ('1856 20', 1), ('1738 20', 1), ('1857 20', 1), ('שמל ות', 1), ('רם דרג', 1), ('כספיים תיקון', 1), ('13 500', 1), ('שב 2014', 1), ('וכ 600', 1), ('וביום יום', 1), ('של diversity', 1), ('בית מדרש', 1), ('ובין לאומיות', 1), ('מג וש', 1), ('אי פרסום', 1), ('16 500', 1), ('מה 13', 1), ('אלג יר', 1), ('אי אלו', 1), ('הזה היישומי', 1), ('הכלכלי חברתי', 1), ('התעש 2015', 1), ('החוץ מוסדיים', 1), ('13 33', 1), ('תיקון איסור', 1), ('לעובד למעביד', 1), ('אי מיצוי', 1), ('call gov', 1), ('בן דב', 1), ('350 355', 1), ('ומ זליגה', 1), ('פאבורג אנדרסן', 1), ('הימ לים', 1), ('08 30', 1), ('32 607', 1), ('ואי התרת', 1), ('הפרא רפואיים', 1), ('גוף על', 1), ('93 000', 1), ('החד פעמיות', 1), ('400 450', 1), ('1763 20', 1), ('ועורכי הדין', 1), ('בהרבה הרבה', 1), ('האי שוויון', 1), ('הבלתי מוכרים', 1), ('15 ד1', 1), ('ביום יומיים', 1), ('14 08', 1), ('09 44', 1), ('מגדרי על', 1), ('שמונים עשרים', 1), ('29 2016', 1), ('אחר הצהריים', 1), ('09 22', 1), ('התשכ 1963', 1), ('השמונה עשרה', 1), ('לדו קיום', 1), ('ויו רים', 1), ('דו קרב', 1), ('שב 639', 1), ('פרו בונו', 1), ('לאי איסוף', 1), ('בתי העלמין', 1), ('תל רגב', 1), ('מל ות', 1), ('מה 29', 1), ('48 000', 1), ('הצ כי', 1), ('לצ כיה', 1), ('בצ כיה', 1), ('24 2016', 1), ('בינ משרדי', 1), ('דו קיום', 1), ('כארבע חמש', 1), ('1345 20', 1), ('שב 2012', 1), ('255 000', 1), ('173 320', 1), ('2423 20', 1), ('הלהט בופיה', 1), ('שיוג ין', 1), ('הדברים שאנשים', 1), ('וביולי אוגוסט', 1), ('זכות יסוד', 1), ('במוצאי שבת', 1), ('12 06', 1), ('בדו קיום', 1), ('מג לומן', 1), ('והגמ חים', 1), ('לגמ חים', 1), ('היותר מרכזיים', 1), ('נטל עודף', 1), ('הפוטו וולטאי', 1), ('2001 2002', 1), ('פרנקל שור', 1), ('שה fatca', 1), ('10 46', 1), ('20 040', 1), ('10 020', 1), ('שינוי מה', 1), ('וחצי שנתיים', 1), ('שכ 20', 1), ('2421 20', 1), ('אי מייל', 1), ('וה 210', 1), ('נחשון גליק', 1), ('14 2016', 1), ('לעורך דין', 1), ('15 15', 1), ('פסיבי השקעתי', 1), ('למל ות', 1), ('אבו מערוף', 1), ('חברה בת', 1), ('שעל פיה', 1), ('על פיו', 1), ('הפוסט דוקטורנטים', 1), ('מב סים', 1), ('ארוך ארוך', 1), ('אל עזרה', 1), ('בבני ברק', 1), ('בני ברק', 1), ('תת קרקעי', 1), ('התת קרקעי', 1), ('רב טפסר', 1), ('בן נר', 1), ('סדר ההיום', 1), ('הוא הוא', 1), ('בר קיימא', 1), ('לקדם משפט', 1), ('אגרה הוראת', 1), ('וכ 80', 1), ('10 34', 1), ('לניו מדיה', 1), ('אי ההגליה', 1), ('בציינג ים', 1), ('חקלאיים תיירותיים', 1), ('רואי החשבון', 1), ('הקודם קודם', 1), ('2018 20', 1), ('2117 20', 1), ('שכ 000', 1), ('אביב תיקון', 1), ('כקואליציה אופוזיציה', 1), ('הקטנצ יק', 1), ('מטרו דן', 1), ('11 53', 1), ('240 000', 1), ('08 36', 1), ('2383 20', 1), ('2230 20', 1), ('2543 20', 1), ('ישראל תורכיה', 1), ('724 98', 1), ('19 45', 1), ('האי מייל', 1), ('02 6409831', 1), ('לכ 1000', 1), ('שבתי משפט', 1), ('דו שלבי', 1), ('שבני אדם', 1), ('אחר הצהרים', 1), ('שבעים שמונים', 1), ('וה 15', 1), ('למו פים', 1), ('17 2016', 1), ('10 57', 1), ('הכספי תיקון', 1), ('18 16', 1), ('בהי טק', 1), ('ההי טק', 1), ('הי טק', 1), ('גמלאות תיקון', 1), ('59 צמצום', 1), ('התש 1970', 1), ('וב 12', 1), ('ול 2006', 1), ('10 27', 1), ('19 07', 1), ('19 2016', 1), ('להלן יוח', 1), ('ומנכ לו', 1), ('יפ תח', 1), ('3009 20', 1), ('ומזל טוב', 1), ('תש 1960', 1), ('השצ פים', 1), ('תב עות', 1), ('ממ דים', 1), ('14 16', 1), ('בבעלי חיים', 1), ('בלוח הזמנים', 1), ('בעלי חיים', 1), ('הש שינים', 1), ('קליניים טיפולים', 1), ('2018 ובהצעת', 1), ('מדקה שתיים', 1), ('3200 20', 1), ('3076 20', 1), ('חמישים שישים', 1), ('חצי שנתי', 1), ('מצ וקמקת', 1), ('מרי אש', 1), ('וב 30', 1), ('השין שינים', 1), ('24 16', 1), ('1042 20', 1), ('00 15', 1), ('כש 50', 1), ('30 2014', 1), ('ול מה', 1), ('בר סימן', 1), ('התשס 2002', 1), ('11 44', 1), ('2744 20', 1), ('3071 20', 1), ('הש לטרים', 1), ('08 15', 1), ('לשר שלום', 1), ('11 42', 1), ('בכ 45', 1), ('בטוב טעם', 1), ('חוץ מערכתי', 1), ('בכל כך', 1), ('183 292', 1), ('2726 20', 1), ('או וה', 1), ('מו הו', 1), ('ההצעה לסדר', 1), ('720 16', 1), ('722 16', 1), ('13 ג2', 1), ('80 א1', 1), ('154 664', 1), ('לתל אביב', 1), ('הדי משמעותית', 1), ('חפ חפ', 1), ('הדד ליין', 1), ('33 333', 1), ('שהמנכ לים', 1), ('אי אכיפה', 1), ('185 000', 1), ('188 000', 1), ('בכ 700', 1), ('סטארט אפ', 1), ('שא פשר', 1), ('דיאנצ נקו', 1), ('שב 25', 1), ('הבין עירונית', 1), ('וולוז ין', 1), ('אם טי', 1), ('האם טי', 1), ('וה 24', 1), ('מוס ראתי', 1), ('אל עביד', 1), ('מר רבי', 1), ('20 719', 1), ('987 16', 1), ('בתי חולים', 1), ('09 49', 1), ('תת סעיפים', 1), ('ייעודיים קהילתיים', 1), ('דח צים', 1), ('קטן קטן', 1), ('אנטי תזה', 1), ('בבתי החולים', 1), ('ומהסמנכ לית', 1), ('בן ששון', 1), ('בכחול לבן', 1), ('משפחה עבודה', 1), ('וב 39', 1), ('לבית הסוהר', 1), ('אזלת יד', 1), ('31 15', 1), ('גוברין קרית', 1), ('בית שמש', 1), ('בן עמי', 1), ('אי היערכות', 1), ('לב לבה', 1), ('בהישג יד', 1), ('וב אורות', 1), ('בסג עיה', 1), ('לרמת גן', 1), ('להלן הפקודה', 1), ('ול ילדים', 1), ('10 33', 1), ('46 855', 1), ('והפרה רפואיים', 1), ('מקצועיים טכנולוגיים', 1), ('11 47', 1), ('ול 23', 1), ('טרכטנברג להציג', 1), ('לצ יינג', 1), ('29 24', 1), ('281 20', 1), ('הערכי חברתי', 1), ('20 3047', 1), ('1998 13', 1), ('24 13', 1), ('13 34', 1), ('136 17', 1), ('מאופר מאופרת', 1), ('לכ 60', 1), ('שמ 00', 1), ('המ רב', 1), ('212 000', 1), ('נג ים', 1), ('וב 2013', 1), ('שמ 2009', 1), ('22 30', 1), ('56 900', 1), ('ומ 14', 1), ('לבתי החולים', 1), ('14 03', 1), ('וב 2016', 1), ('30 41', 1), ('לבית הדין', 1), ('3255 20', 1), ('1710 20', 1), ('3471 20', 1), ('3288 20', 1), ('136 11', 1), ('פלוס מינוס', 1), ('הלא נורמלי', 1), ('2180 20', 1), ('2202 20', 1), ('27 18', 1), ('136 14', 1), ('136 18', 1), ('במור קים', 1), ('פרק אנחנו', 1), ('המצ וקמקת', 1), ('2007 2009', 1), ('אי תיעוד', 1), ('על ידה', 1), ('2017 2108', 1), ('3459 20', 1), ('כי טוב', 1), ('שהקדוש ברוך', 1), ('15 12', 1), ('השונים בתחומים', 1), ('כחברה אנחנו', 1), ('בכ 496', 1), ('התש 1998', 1), ('והישבון תיקון', 1), ('חשכ לית', 1), ('החברתיים הכלכליים', 1), ('ומג דים', 1), ('46 001', 1), ('20 23', 1), ('444 000', 1), ('וג ינג', 1), ('איך ואנחנו', 1), ('18 27', 1), ('3185 20', 1), ('bottom line', 1), ('לאחר מכן', 1), ('וה 308', 1), ('2013 2015', 1), ('249 31', 1), ('2715 20', 1), ('וכ 30', 1), ('כש התוצר', 1), ('פרדס חנה', 1), ('12 31', 1), ('26 1984', 1), ('שב hardcore', 1), ('12 16', 1), ('שמ 30', 1), ('70 51', 1), ('והדד ליין', 1), ('13 39', 1), ('קודמת קודמת', 1), ('81 769', 1), ('40 45', 1), ('אי יידוע', 1), ('41 000', 1), ('22 2015', 1), ('ברוטו ברוטו', 1), ('נטו נטו', 1), ('מה times', 1), ('כהן פארק', 1), ('2009 2013', 1), ('מה zoa', 1), ('והדה לגיטימציה', 1), ('11 354', 1), ('2690 20', 1), ('הממשלה מוזס', 1), ('28 13', 1), ('28 14', 1), ('חג אג', 1), ('לסעיף סעיף', 1), ('לוחות זמנים', 1), ('בבתי המשפט', 1), ('בכ 000', 1), ('ובית הדין', 1), ('שבבית המשפט', 1), ('שהרב קו', 1), ('לכל כך', 1), ('2015 2014', 1), ('תמרוקים תיקון', 1), ('2016 התשע', 1), ('29 2002', 1), ('וקב טים', 1), ('התש 1957', 1), ('1906 20', 1), ('בלתי חוקיות', 1), ('משניים שלושה', 1), ('83 84', 1), ('29 000', 1), ('ברודסקי לוי', 1), ('מהדו חות', 1), ('והאג נדות', 1), ('האג נדות', 1), ('שבס כחלון', 1), ('14 07', 1), ('בבית חולים', 1), ('מבית החולים', 1), ('המד צים', 1), ('והמש צים', 1), ('איתנים כפר', 1), ('המקצועי מועצתי', 1), ('13 08', 1), ('150 151', 1), ('האמון חוסר', 1), ('2395 20', 1), ('1968 20', 1), ('ולחברי כנסת', 1), ('מחברי כנסת', 1), ('אי המעורבות', 1), ('18 283', 1), ('שביקש מבקש', 1), ('כסמנכ לית', 1), ('גו בה', 1), ('22 17', 1), ('אס אס', 1), ('תשס 2007', 1), ('החד שנתי', 1), ('לכ 26', 1), ('14 28', 1), ('בלתי מתקבלת', 1), ('המקצועי מסחרי', 1), ('טוב יום', 1), ('10 23', 1), ('309 20', 1), ('אג חים', 1), ('67 68', 1), ('בנשים אנשים', 1), ('11 80', 1), ('שלבתי משפט', 1), ('13 201', 1), ('כבד משקל', 1), ('דתיים אמוניים', 1), ('75 17', 1), ('11 75', 1), ('06 30', 1), ('הלהטב ים', 1), ('קוואזי ציבורית', 1), ('על שם', 1), ('וירג יל', 1), ('2391 19', 1), ('וכ 20', 1), ('התש 1960', 1), ('התשט 1956', 1), ('3023 20', 1), ('התשס 2007', 1), ('שוברי שוויון', 1), ('1989 2004', 1), ('ומיידיים תיקון', 1), ('וצורה תיקון', 1), ('נג ידאת', 1), ('בועינה נג', 1), ('שיבלי אום', 1), ('אלג נם', 1), ('שב 2011', 1), ('זה וו', 1), ('דה זה', 1), ('מפמ רית', 1), ('בסוף בסוף', 1), ('בתי אב', 1), ('האובר דואינג', 1), ('יו רים', 1), ('קיומי חברתי', 1), ('התשע 2009', 1), ('15 20', 1), ('סמנ כלית', 1), ('הבורסה תיקון', 1), ('שב 98', 1), ('הח כיות', 1), ('חברי הכנסת', 1), ('חברות כנסת', 1), ('בלא יקרים', 1), ('חברת הכנסת', 1), ('הסמנכ לים', 1), ('300 400', 1), ('היו ריות', 1), ('במנכ לית', 1), ('תומא סלימאן', 1), ('23 1016', 1), ('אתם אתן', 1), ('רוצות רוצים', 1), ('בלהט בופוביה', 1), ('שמבקש מבקשת', 1), ('הטרנג נדרים', 1), ('הותמ לים', 1), ('1984 הולך', 1), ('מה האח', 1), ('המשפטים פרקליטות', 1), ('והח כים', 1), ('וב ניו', 1), ('אקסצ יינג', 1), ('פחו תה', 1), ('חירשות אילמות', 1), ('בן הדוד', 1), ('לכ 180', 1), ('בן נון', 1), ('הצ רקסית', 1), ('ון גוך', 1), ('3781 20', 1), ('1715 20', 1), ('התשע 2106', 1), ('חל צים', 1), ('מה fbi', 1), ('ברוצ סטר', 1), ('נון סטופ', 1), ('בשנה שנה', 1), ('רב תרבותי', 1), ('בטרנסג נדרים', 1), ('ליושבת הראש', 1), ('אי אחידות', 1), ('ולדו חות', 1), ('רקסי מוסלמי', 1), ('הצ רקסי', 1), ('תב רים', 1), ('3646 20', 1), ('לחוות דעת', 1), ('ממלאות מקום', 1), ('בר ביצוע', 1), ('שב 75', 1), ('בכ 29', 1), ('בכ 75', 1), ('2017 על', 1), ('3174 20', 1), ('2785 20', 1), ('3065 20', 1), ('שבשבוע שבועיים', 1), ('ישוב ראש', 1), ('3545 20', 1), ('הקודמת הקודמת', 1), ('דו ממדית', 1), ('תלת ממדיים', 1), ('שבעה שמונה', 1), ('3928 20', 1), ('3708 20', 1), ('3926 20', 1), ('3927 20', 1), ('08 34', 1), ('1229 20', 1), ('בלמ סית', 1), ('שב 2017', 1), ('3523 20', 1), ('3626 20', 1), ('למגשרת שופטת', 1), ('3629 20', 1), ('רב אלוף', 1), ('חמש שנתית', 1), ('ותיעוד תיקון', 1), ('אנ איי', 1), ('די אנ', 1), ('1948 1975', 1), ('טרנר איל', 1), ('שמ 2012', 1), ('שה 30', 1), ('158 000', 1), ('56 000', 1), ('וה 14', 1), ('12 02', 1), ('להורים הוראת', 1), ('בתי הספר', 1), ('חד סטרית', 1), ('הישראלי תיקון', 1), ('בוצ ינסקי', 1), ('3118 20', 1), ('תקציבי פיזי', 1), ('והלא עברי', 1), ('חוק הוראת', 1), ('אל קודס', 1), ('הפנים משרדית', 1), ('לבן אדם', 1), ('בן הזוג', 1), ('2913 20', 1), ('אזרביז אן', 1), ('לאזרביז אן', 1), ('בית סוהר', 1), ('שבשנתיים שלוש', 1), ('הרוחני חברתי', 1), ('מקונן דגו', 1), ('120 115', 1), ('וב 2012', 1), ('ארבע שנתי', 1), ('מזון תחילת', 1), ('וכ 700', 1), ('הגאו פוליטית', 1), ('672 20', 1), ('1600 20', 1), ('2820 20', 1), ('3289 20', 1), ('3489 20', 1), ('3574 20', 1), ('3636 20', 1), ('3814 20', 1), ('כנסת ממשלה', 1), ('לחמש עשרה', 1), ('לכ 700', 1), ('מחמישה שישה', 1), ('המלש ביות', 1), ('בכ 280', 1), ('built in', 1), ('2109 20', 1), ('2650 20', 1), ('בשירות סמכויות', 1), ('עונשיות היבטים', 1), ('הופסקה הושעתה', 1), ('בנק לקוח', 1), ('אור עקיבא', 1), ('וקריית מלאכי', 1), ('מו פית', 1), ('ובני נוער', 1), ('שה ווצאפ', 1), ('העל יסודי', 1), ('התשי 1957', 1), ('11 יג', 1), ('בית אל', 1), ('שבית משפט', 1), ('בניו יורק', 1), ('לאס פים', 1), ('וה משהו', 1), ('טרור תיקון', 1), ('המקומיות הוראת', 1), ('וברוטו ברוטו', 1), ('גיל עד', 1), ('16 800', 1), ('בצ רנוביל', 1), ('צבא קהילה', 1), ('1987 1986', 1), ('בחאפ לאפ', 1), ('3464 20', 1), ('גישה חשיפה', 1), ('לבתי המשפט', 1), ('09 43', 1), ('בין משרדיים', 1), ('09 56', 1), ('ואי הסכמות', 1), ('אל בחירי', 1), ('ונג וד', 1), ('20 709', 1), ('הר טוב', 1), ('בין עירוניות', 1), ('21 17', 1), ('עיתונות טבק', 1), ('שלטון עיתונות', 1), ('הון שלטון', 1), ('אי הכרה', 1), ('מרץ דצמבר', 1), ('בכובד ראש', 1), ('כבדות משקל', 1), ('היצירה העיצוב', 1), ('4278 20', 1), ('2680 20', 1), ('3492 20', 1), ('רב חובל', 1), ('הסביבתית חברתית', 1), ('סמנכ לים', 1), ('12 25', 1), ('עו גן', 1), ('בקצר קצר', 1), ('הניו יורקי', 1), ('28 17', 1), ('לואו טק', 1), ('06 97', 1), ('בכ 500', 1), ('21 000', 1), ('קטנצ יק', 1), ('3790 20', 1), ('2311 20', 1), ('בו ים', 1), ('עו דו', 1), ('סו אל', 1), ('יו צו', 1), ('יפ טו', 1), ('הו יל', 1), ('אי היותך', 1), ('4317 20', 1), ('11 03', 1), ('מאות אלפים', 1), ('08 31', 1), ('538 17', 1), ('11 538', 1), ('555 17', 1), ('11 555', 1), ('ובית החולים', 1), ('כלכלי חברתי', 1), ('בן חמו', 1), ('בקרית גת', 1), ('מקריית גת', 1), ('מה bds', 1), ('העל תיכוני', 1), ('אגרות ביטול', 1), ('000 40', 1), ('מכ 100', 1), ('לכ 200', 1), ('25 35', 1), ('וכ 16', 1), ('החרד לי', 1), ('57 60', 1), ('000 50', 1), ('09 14', 1), ('וא פוליטי', 1), ('ההישגי תחרותי', 1), ('12 52', 1), ('כשנתיים שלוש', 1), ('14 40', 1), ('וב 18א', 1), ('אי השוויון', 1), ('הפח עיים', 1), ('שהכי הכי', 1), ('דה רקורד', 1), ('על אף', 1), ('ביישובים כשנוחתים', 1), ('13 16', 1), ('106 000', 1), ('10 19', 1), ('252 ג1', 1), ('בר אשר', 1), ('זו 2017', 1), ('התשע זו', 1), ('וב 1897', 1), ('וב 1948', 1), ('54 009', 1), ('והצ רקסית', 1), ('1604 20', 1), ('3371 20', 1), ('מאות מיליונים', 1), ('719 000', 1), ('לכ 400', 1), ('מבר אילן', 1), ('האמרכ לות', 1), ('תרפ 1928', 1), ('2612 20', 1), ('ואקנין גיל', 1), ('מאצ ואיסטית', 1), ('תשע 1996', 1), ('625 000', 1), ('ריכוזיות יתר', 1), ('חקלאי תיירותי', 1), ('ריצ ינג', 1), ('הצ אקרות', 1), ('כל 280', 1), ('טופר חבר', 1), ('נפגעת נפגע', 1), ('סימן שאלה', 1), ('ובתי המשפט', 1), ('ופוסט טראומה', 1), ('14 34', 1), ('4320 20', 1), ('הספנות ואני', 1), ('שה jurisdiction', 1), ('מור קים', 1), ('מלש ביות', 1), ('למלש ביות', 1), ('לבתי דין', 1), ('בדרום שלפתע', 1), ('דו גלגלי', 1), ('ובצ כיה', 1), ('כרמיאל עכו', 1), ('18א 1א', 1), ('14 17', 1), ('ולאט לאט', 1), ('חברתי סוציאלי', 1), ('האי הפללה', 1), ('הדתיים החרדיים', 1), ('דו מפרקיים', 1), ('לשעה שעתיים', 1), ('אזרבייג אן', 1), ('צדדית אחורית', 1), ('רב תרבותיות', 1), ('החד משמעי', 1), ('מהקדוש ברוך', 1), ('401 704', 1), ('157 781', 1), ('103 087', 1), ('103 000', 1), ('21 799', 1), ('26 א1', 1), ('מזון שאריות', 1), ('הדברה תיקון', 1), ('חורף סתיו', 1), ('שעל ידי', 1), ('4378 20', 1), ('21 928', 1), ('עמוקה עמוקה', 1), ('קשה קשה', 1), ('הלואו טייק', 1), ('פרא רפואיים', 1), ('07 35', 1), ('שב 07', 1), ('הרטרו אקטיבי', 1), ('121 100', 1), ('תת תקצוב', 1), ('תת תקנון', 1), ('עמל התשע', 1), ('148 971', 1), ('70 891', 1), ('בסדר היוםאני', 1), ('מריאצ ין', 1), ('11 1917', 1), ('1947 48', 1), ('האירו אסייתי', 1), ('אבו שהאב', 1), ('אחמ שים', 1), ('מי מבצעי', 1), ('האג מי', 1), ('שעת חירום', 1), ('לממלכתי דתי', 1), ('שכ 45', 1), ('שלושת רבעי', 1), ('תת דיווח', 1), ('הגאדג טים', 1), ('המרביים תיקון', 1), ('התשע 20', 1), ('2016 2015', 1), ('4275 20', 1), ('1382 20', 1), ('1383 20', 1), ('20 2010', 1), ('12 41', 1), ('ארוך טווח', 1), ('התשי 1958', 1), ('בן חיים', 1), ('52 48', 1), ('שה 25', 1), ('בארבע חמש', 1), ('14 840', 1), ('66 847', 1), ('וכיושב ראש', 1), ('אינטימי משפחתי', 1), ('וצ יפסים', 1), ('הממשלתית אוצר', 1), ('סמנכ לי', 1), ('250 200', 1), ('ומג אר', 1), ('במג אר', 1), ('ישוב ישוב', 1), ('דג אש', 1), ('מה פינג', 1), ('מזרחי טפחות', 1), ('הכספי ביטול', 1), ('13 05', 1), ('2936 20', 1), ('עשרות אלפי', 1), ('ומ 00', 1), ('למנכ לי', 1), ('וב 2055', 1), ('באלג יריה', 1), ('הים תיכוני', 1), ('רמת גן', 1), ('התשס 2001', 1), ('והרכבה הוראת', 1), ('1142 17', 1), ('11 1142', 1), ('1146 17', 1), ('11 1146', 1), ('08 40', 1), ('הלאומי ביטוח', 1), ('סיעוד בדיקה', 1), ('סיעוד תיקון', 1), ('שכ 91', 1), ('פינצ וק', 1), ('נציב נציבת', 1), ('וב 20', 1), ('3215 20', 1), ('מוסרית מצפונית', 1), ('4732 20', 1), ('ציבורי מנהלי', 1), ('הבין אישית', 1), ('עשרות עשרות', 1), ('מהמותן משרד', 1), ('ושידורים תיקון', 1), ('12 49', 1), ('45 17', 1), ('16 45', 1), ('בתת ניצול', 1), ('להט בי', 1), ('מנצ סטר', 1), ('הבין עירוניות', 1), ('53 000', 1), ('רה ארגון', 1), ('15 1970', 1), ('01 2018', 1), ('15 01', 1), ('מו פים', 1), ('12 39', 1), ('מר כז', 1), ('במלש בים', 1), ('50 60', 1), ('דה ביילאנקורט', 1), ('מגו בה', 1), ('16 18', 1), ('14יח 1ב', 1), ('איתך אתמול', 1), ('שלwin win', 1), ('נעים נאור', 1), ('בתשע 2016', 1), ('מה beg', 1), ('23 18', 1), ('לש בח', 1), ('שנייה שלישית', 1), ('לאדינו מפגשי', 1), ('מברנקו וייס', 1), ('שמאלוב ברקוביץ', 1), ('שיר יים', 1), ('הקב טים', 1), ('לקב טים', 1), ('2016 2012', 1), ('2021 2017', 1), ('המל גים', 1), ('2017 2016', 1), ('לנת צים', 1), ('רב לאומית', 1), ('באילת ישיבת', 1), ('הר אדר', 1), ('50 45', 1), ('אל וואד', 1), ('מז יבוז', 1), ('נו נו', 1), ('או תו', 1), ('או נו', 1), ('רו נו', 1), ('40 18', 1), ('13 40', 1), ('היום יומית', 1), ('קדם צבאית', 1), ('בחקירה להעמדה', 1), ('14 999', 1), ('פדה פוריה', 1), ('זום אאוט', 1), ('דר 87', 1), ('ומ 2007', 1), ('דה ריבית', 1), ('13 2018', 1), ('שחולטו תיקון', 1), ('השתע 2018', 1), ('2018 2019', 1), ('גבוהה גבוהה', 1), ('לאי היכולת', 1), ('הג ודו', 1), ('00 12', 1), ('2016 2014', 1), ('וכלכלית חברתית', 1), ('היום יומי', 1), ('כשהיושב ראש', 1), ('להט ביים', 1), ('300 250', 1), ('להט ביות', 1), ('שלהט בים', 1), ('00 16', 1), ('108 23', 1), ('א1 15', 1), ('62א א1', 1), ('נקודה פסיק', 1), ('בכר שחר', 1), ('בה 26', 1), ('בסדר גודל', 1), ('2017 2021', 1), ('לב חזה', 1), ('4744 20', 1), ('3570 20', 1), ('3572 20', 1), ('3573 20', 1), ('ישראלי אתיופי', 1), ('73 18', 1), ('13 73', 1), ('66 18', 1), ('13 66', 1), ('החברתי קהילתי', 1), ('והאג נדה', 1), ('12 48', 1), ('12 51', 1), ('2010 2012', 1), ('11 41', 1), ('30 500', 1), ('פנים כנסת', 1), ('בכפר סבא', 1), ('בפרדס חנה', 1), ('ימינה שמאלה', 1), ('מה 12', 1), ('לתל נים', 1), ('20 17', 1), ('וב 18', 1), ('הרב גילאי', 1), ('חובק כל', 1), ('09 38', 1), ('דימונה ירוחם', 1), ('עבודה הוראת', 1), ('שסדר היום', 1), ('העל יסודיים', 1), ('06 001', 1), ('ישראל אוסטריה', 1), ('278 132', 1), ('13 04', 1), ('מה 50', 1), ('ליפקין שחק', 1), ('בפסק הדין', 1), ('40 א1', 1), ('אבו עראר', 1), ('23 003', 1), ('שג מעה', 1), ('העברית לא', 1), ('לפינוי בינוי', 1), ('34 500', 1), ('מפא יניק', 1), ('או אה', 1), ('2006 2008', 1), ('שבוע שבוע', 1), ('שמ 2011', 1), ('ממלכתיות דתיות', 1), ('ממלכתיות ערביות', 1), ('מישורי דרעי', 1), ('מודיעין מכבים', 1), ('2014 2016', 1), ('80 70', 1), ('16 1973', 1), ('יו טיוב', 1), ('פרקים פרקים', 1), ('מוסד מוסד', 1), ('לציון תל', 1), ('אביב ירושלים', 1), ('המשא ומתן', 1), ('העסקי כלכלי', 1), ('14 2018', 1), ('לא רוחמה', 1), ('11 14', 1), ('החוץ ביתי', 1), ('לכ 20', 1), ('לשלש ארבע', 1), ('הטיפולי שיקומי', 1), ('חל פים', 1), ('ופ 166', 1), ('שמ ית', 1), ('21 18', 1), ('גו פרו', 1), ('169 308', 1), ('129 309', 1), ('הגדלה הקטנה', 1), ('לג ורדנה', 1), ('אחמ שיות', 1), ('שה התאמות', 1), ('162 18', 1), ('13 162', 1), ('29 18', 1), ('גאל דור', 1), ('ילדים אחים', 1), ('פצמ רים', 1), ('תל גיבורים', 1), ('שב 2048', 1), ('האי ודאות', 1), ('ימין חה', 1), ('הנו האו', 1), ('1935 1965', 1), ('3499 20', 1), ('12 53', 1), ('חרמון גליל', 1), ('210 000', 1), ('התש 2010', 1), ('ויושבת הראש', 1), ('וכ 100', 1), ('בוקר צהריים', 1), ('רצ מן', 1), ('בג וינט', 1), ('ישראל אשלים', 1), ('ממשלתיים ליזום', 1), ('יבנה אשדוד', 1), ('בן עדי', 1), ('כשבוע שבועיים', 1), ('26 18', 1), ('ביג דאטה', 1), ('צה ליים', 1), ('צה לית', 1), ('מש קיות', 1), ('וב 13', 1), ('מח טים', 1), ('דים מח', 1), ('חפ שים', 1), ('במנכ לותך', 1), ('הבין פרלמנטרית', 1), ('ישראל קנדה', 1), ('וה bds', 1), ('רב תרבותית', 1), ('בבנימינה גבעת', 1), ('ואי שימוש', 1), ('מפכ לית', 1), ('עסקי פרטי', 1), ('לדו חות', 1), ('פייק תקציב', 1), ('חב דניקים', 1), ('שב 12', 1), ('הפנים כנסת', 1), ('לפני אחרי', 1), ('18 040', 1), ('5452 20', 1), ('עז דין', 1), ('עת אמלה', 1), ('1990 2017', 1), ('בישראל 20', 1), ('62 63', 1), ('רמלה לוד', 1), ('בג לג', 1), ('בז בוטינסקי', 1), ('שהמת צים', 1), ('3861 20', 1), ('אובר ויו', 1), ('ביולי אוגוסט', 1), ('של 2019', 1), ('שהיושבת ראש', 1), ('חד משמעיים', 1), ('13 02', 1), ('13 31', 1), ('07 2018', 1), ('16 07', 1), ('650 000', 1), ('13 22', 1), ('התע 2018', 1), ('17 2018', 1), ('חדש ישן', 1), ('שה מאושרת', 1), ('חד ערכית', 1), ('המט לית', 1), ('21 500', 1), ('בדד ליין', 1), ('החדש ישן', 1), ('עברי ישראלי', 1), ('חלקים חלקים', 1), ('שנתית הוראת', 1), ('140 000', 1), ('000 90', 1), ('יהודית מזרחית', 1), ('קפה גיברלטר', 1), ('קרפ רים', 1), ('רוב רובה', 1), ('וב oecd', 1), ('135 000', 1), ('אי די', 1), ('סגנית אלופה', 1), ('ה23 10', 1), ('33 073', 1), ('מה 14', 1), ('לאי מתן', 1), ('54 שחרור', 1), ('רוסק עמינח', 1), ('14 27', 1), ('כץ עוז', 1), ('לצ קים', 1), ('וב 2014', 1), ('סרצ וק', 1), ('בשעת חירום', 1), ('אזרח ית', 1), ('23 2017', 1), ('21 2018', 1), ('כש 73', 1), ('הלאומי אזרחי', 1), ('מלשינון לא', 1), ('רי סט', 1), ('תיקון ביטול', 1), ('2015 1487', 1), ('לתת ניצב', 1), ('אופוזיציוני קואליציוני', 1), ('ומג יימס', 1), ('ברין רמרז', 1), ('הג אנק', 1), ('רב מקצועי', 1), ('מהז רגון', 1), ('לכ 439', 1), ('975 600', 1), ('לכ 975', 1), ('718 200', 1), ('239 400', 1), ('וכ 239', 1), ('הצד לניקים', 1), ('וחד משמעי', 1), ('25 076', 1), ('ברבר צדיק', 1), ('19 11', 1), ('בעברית אנגלית', 1), ('תשע 2011', 1), ('מב דים', 1), ('4136 20', 1), ('החברתית פוליטית', 1), ('פומרנץ בלום', 1), ('לג ונסון', 1), ('לג ונסטון', 1), ('קצ נסקי', 1), ('שב 48', 1), ('4415 20', 1), ('בחודשיים שלושה', 1), ('שיווק תיקון', 1), ('הבן אדם', 1), ('לשנייה שלישית', 1), ('וסוף סוף', 1), ('אנגלי סקוטי', 1), ('050 2351072', 1), ('08 2016', 1), ('706 08', 1), ('בזק וואלה', 1), ('החד הוריות', 1), ('במצ ינג', 1), ('2010 2009', 1), ('תש 2010', 1), ('ערבית יהודית', 1), ('שב 99', 1), ('קו אופ', 1), ('דוכן דוכן', 1), ('גבייה 875', 1), ('והיום יום', 1), ('17 12', 1), ('11 02', 1), ('הסטאז רים', 1), ('וב 2003', 1), ('הר קו', 1), ('אלוף משנה', 1), ('אלג מיע', 1), ('הערבים הבדואים', 1), ('בנגב לציון', 1), ('העדפה הוראת', 1), ('לבית ספרי', 1), ('באי שוויוניות', 1), ('75 3000', 1), ('בבת ים', 1), ('11 500', 1), ('על תנאי', 1), ('דו לאומית', 1), ('24 12', 1), ('שב 15', 1), ('מנמ רים', 1), ('חקיקה תיקון', 1), ('וכ 60', 1), ('4594 20', 1), ('מק 2090', 1), ('ניצנים צפון', 1), ('בשום שכל', 1), ('12 14', 1), ('4114 20', 1), ('250 300', 1), ('09 39', 1), ('283 18', 1), ('13 283', 1), ('קוצ ינים', 1), ('בינונית גבוהה', 1), ('לוסביסט מאכער', 1), ('הלא ביטחוניים', 1), ('00 30', 1), ('פעמיים שלוש', 1), ('אתה crs', 1), ('בווין וין', 1), ('כאג נדה', 1), ('שמה 30', 1), ('פעילות לחימה', 1), ('שרביטך הנחיותיך', 1), ('ב15 00', 1), ('ואי ההבנה', 1), ('הגמח ים', 1), ('13 50', 1), ('פרוצדורלית תקנונית', 1), ('06 002', 1), ('לבג צים', 1), ('הפיננסית הבנקאית', 1), ('364 19', 1), ('13 364', 1), ('מכחול לבן', 1), ('30 2019', 1), ('רע בל', 1), ('אי העלאת', 1), ('120 ב2', 1), ('27 19', 1), ('העשרים ושתיים', 1), ('שלליכוד כולנו', 1), ('46 260', 1), ('16 34', 1), ('930 000', 1), ('11 930', 1), ('34 330', 1), ('תשע 2019', 1), ('14 2019', 1), ('לוועדה 67', 1), ('העשרים ואחת', 1), ('באון ליין', 1), ('כלל עולמית', 1), ('ליפו תל', 1), ('324 509', 1), ('ול 21', 1), ('כהכנסה תיקון', 1), ('בר סימנטוב', 1), ('508 000', 1), ('167 508', 1), ('חוץ ביתיות', 1), ('440 000', 1), ('311 440', 1), ('373 376', 1), ('90 20', 1), ('15 90', 1), ('ללוחות הזמנים', 1), ('הפארה רפואיים', 1), ('במשא ומתן', 1), ('סו פר', 1), ('בר נתן', 1), ('עו סים', 1), ('ועו סיות', 1), ('רב תחומית', 1), ('33 000', 1), ('33 770', 1), ('ב16 00', 1), ('תזונתי הוראת', 1), ('ומנכ לי', 1), ('תנ צים', 1), ('פרוסות פרוסות', 1), ('73 000', 1), ('תל השומר', 1), ('בן סימון', 1), ('כשבדרך כלל', 1), ('00 13', 1), ('מאי יוני', 1), ('דריל דאון', 1), ('חד צדדית', 1), ('החד צדדית', 1), ('יושב רש', 1), ('תל אביבי', 1), ('תשס 2003', 1), ('244 880', 1), ('46 484', 1), ('91 576', 1), ('מחודשיים שלושה', 1), ('26 2020', 1), ('רון טל', 1), ('וג אבר', 1), ('covid 19', 1), ('הגדול הגדול', 1), ('מהתקש חים', 1), ('שברוך השם', 1), ('אי נחת', 1), ('הפיזיים מוחשיים', 1), ('בלתי רגיל', 1), ('בריץ רץ', 1), ('התשעט 2019', 1), ('שהתקש חים', 1), ('ותקש חים', 1), ('101 תיקון', 1), ('שב 2025', 1), ('שכ 92', 1), ('שטרסברג כהן', 1), ('פרה היסטורי', 1), ('22 2020', 1), ('רב סרן', 1), ('לשנה שנה', 1), ('2014 2013', 1), ('23 2020', 1), ('לתקש חים', 1), ('טור כספא', 1), ('כמנכ לי', 1), ('35 436', 1), ('18 695', 1), ('20 209', 1), ('17 05', 1), ('פרו אקטיבית', 1), ('29 2020', 1), ('נג מי', 1), ('הסמי ספורט', 1), ('10 2015', 1), ('2025 2020', 1), ('06 00', 1), ('100 150', 1), ('והשלישית הצעת', 1), ('1332 הצעת', 1), ('תיקון 1336', 1), ('אכיפה תיקון', 1), ('באיי פדים', 1), ('עלות תועלת', 1), ('ינואר פברואר', 1), ('האי אמון', 1), ('ומיוג ין', 1), ('11 19', 1), ('בהתחלה בהתחלה', 1), ('591 000', 1), ('וקוז ינוב', 1), ('ואוצ רים', 1), ('ואי יכולתן', 1), ('115 116', 1), ('34 244', 1), ('מאי יולי', 1), ('הערבי בדואי', 1), ('340 000', 1), ('רב שנתיות', 1), ('בתי הכלא', 1), ('יולי אוגוסט', 1), ('500 400', 1), ('רב שכבתית', 1), ('רב ממדית', 1), ('רב ממדתית', 1), ('בקולג ים', 1), ('2017 2010', 1), ('2018 2013', 1), ('2017 2015', 1), ('הביטחון צה', 1), ('850 000', 1), ('תתי ועדות', 1), ('10 31', 1), ('48 451', 1), ('19 302', 1), ('27 20', 1), ('אף פעם', 1), ('20 21', 1), ('184 000', 1), ('ומ 2015', 1), ('שאט אט', 1), ('בשני שלישים', 1), ('000 100', 1), ('ומכת זיות', 1), ('אל הרג', 1), ('מהמכת זיות', 1), ('לבין לאומי', 1), ('דה הלגיטימציה', 1), ('de legitimization', 1), ('תשי 1959', 1), ('47 000', 1), ('המכת זית', 1), ('נשמת אפה', 1), ('מורה תלמיד', 1), ('365 000', 1), ('הפטרו כימיים', 1), ('והפטרו כימית', 1), ('וש 59', 1), ('מנכ לו', 1), ('כל בו', 1), ('העו סית', 1), ('בר סיני', 1), ('חד שנתי', 1), ('עשר שנתי', 1), ('09 32', 1), ('שב 16', 1), ('ואי הסדר', 1), ('האדמו רים', 1), ('הציבוריים העצמאיים', 1), ('וכ 150', 1), ('95 000', 1), ('הישנים חדשים', 1), ('בדבריו בדבריה', 1), ('23 400', 1), ('02 49', 1), ('17 50', 1), ('ליוו הו', 1), ('במכת זיות', 1), ('הכלכליות חברתיות', 1), ('אכיפה מעצרים', 1), ('60 60', 1), ('14 45', 1), ('447 23', 1), ('28 2020', 1), ('טיפ טיפה', 1), ('וקמא טק', 1), ('המאוד ברורה', 1), ('08 2020', 1), ('26 08', 1), ('למ נהלת', 1), ('שהמ נהלת', 1), ('וג בארין', 1), ('בכ 400', 1), ('גברים נשים', 1), ('בכ 80', 1), ('318 000', 1), ('לכ 70', 1), ('התשי 1953', 1), ('תזונתי בריאותי', 1), ('ויז ואל', 1), ('2006 2012', 1), ('אן איי', 1), ('די אן', 1), ('my gov', 1), ('31 500', 1), ('17 200', 1), ('במח טים', 1), ('91 000', 1), ('בג וליס', 1), ('שאחד עשר', 1), ('בין תרבותי', 1), ('שי לי', 1), ('לאי פתיחת', 1), ('וב זום', 1), ('מג וליס', 1), ('2020 2015', 1), ('בין דורית', 1), ('06 9090', 1), ('93 06', 1), ('בתת ייצוג', 1), ('לעל יסודי', 1), ('275 23', 1), ('ככה ככה', 1), ('144 000', 1), ('34 329', 1), ('שי וזאן', 1), ('מרה מרה', 1), ('הבריאותיות נפשיות', 1), ('החדשה ישנה', 1), ('196 23', 1), ('18 31', 1), ('נוג ידאת', 1), ('מבועיינה נוג', 1), ('אלמג יב', 1), ('פעילות תיקון', 1), ('שג ורדנה', 1), ('החד פעמי', 1), ('118 112', 1), ('רדיו טלפון', 1), ('שבשנה שנתיים', 1), ('274 500', 1), ('475 500', 1), ('000 500', 1), ('על קולי', 1), ('כשב 30', 1), ('לספטמבר אוקטובר', 1), ('תל שבע', 1), ('הקדם צבאית', 1), ('הסוציו אקונומיים', 1), ('בכדור רגל', 1), ('ובכדור סל', 1), ('מג די', 1), ('טק עילית', 1), ('וג רסי', 1), ('בג רסי', 1), ('ניו יורק', 1), ('בחמישי שישי', 1), ('מה 000', 1), ('98 20', 1), ('16 98', 1), ('ול 50', 1), ('וה inss', 1), ('שה 26', 1), ('בר אושר', 1), ('ברמת גן', 1), ('שעה אזור', 1), ('התת ימי', 1), ('300 200', 1), ('חינוכי ציוני', 1), ('הערכי חינוכי', 1), ('כדור מים', 1), ('סי טי', 1), ('פט סי', 1), ('ישראל תפוצות', 1), ('82 943', 1), ('דרך אגב', 1), ('הבלתי נודע', 1), ('והבלתי נפתרים', 1), ('שכארץ ישראליות', 1), ('נפשית מנטלית', 1), ('חברתי רגשי', 1), ('שב 2020', 1), ('הממלכתי חרדי', 1), ('העות מנית', 1), ('העות מני', 1), ('עיקרון יסוד', 1), ('לתתי נושאים', 1), ('13 12א', 1), ('לחודש חודשיים', 1), ('לאנדר סטייטמנט', 1), ('23 583', 1), ('329 400', 1), ('118 000', 1), ('530 000', 1), ('449 000', 1), ('51 445', 1), ('39 000', 1), ('14 600', 1), ('מה 85', 1), ('הבל יינתק', 1), ('בן זיקרי', 1), ('אנטי ויראלית', 1), ('1999 1998', 1), ('אי אישור', 1), ('1945 1941', 1), ('חד פעמיות', 1), ('החד פעמיים', 1), ('אגף אגף', 1), ('שכ 85', 1), ('אנג אן', 1), ('אית מעכי', 1), ('לסי טי', 1), ('חלב תיקון', 1), ('545 23', 1), ('04 11', 1), ('וקאצ ים', 1), ('200 300', 1), ('הפסיכולוגי החינוכי', 1), ('45 40', 1), ('פרה סימפטומטיים', 1), ('מפיצי על', 1), ('שבניו יורק', 1), ('24 11', 1), ('2018 2020', 1), ('החדש סדרי', 1), ('ניו מקסיקו', 1), ('780 000', 1), ('החברתי נפשי', 1), ('שדו וח', 1), ('לממ חים', 1), ('החדש מענק', 1), ('פוטו וולטאים', 1), ('שב 1990', 1), ('תשפ 2020', 1), ('2333 23', 1), ('2429 23', 1), ('הטכני משפטי', 1), ('והרבה הרבה', 1), ('בתל נים', 1), ('האין סופית', 1), ('הלא כדאיים', 1), ('האי מתגייסים', 1), ('18 11', 1), ('החי תים', 1), ('הצה לית', 1), ('665 000', 1), ('050 000', 1), ('2332 23', 1), ('הסטרט אפ', 1), ('1441 23', 1), ('דו לשוני', 1), ('בניו זילנד', 1), ('1053 23', 1), ('בית לחם', 1), ('עשרות אלפים', 1), ('וה מאכערים', 1), ('יהוד מונוסון', 1), ('התשל 1978', 1), ('התש 1979', 1), ('בצ אט', 1), ('פרו אקטיביות', 1), ('170 000', 1), ('115 900', 1), ('230 100', 1), ('16 תיקון', 1), ('עובדים תיקון', 1), ('שהג יני', 1), ('מהמ נהלת', 1), ('בנווה ים', 1), ('המ נהלת', 1), ('והמ נהלת', 1), ('הכלכלי בריאותי', 1), ('השתפ 2020', 1), ('1705 23', 1), ('וצ רקסיים', 1), ('החברתיים כלכליים', 1), ('ואל בטוף', 1), ('אל בטוף', 1), ('בכ 100', 1), ('לג וגינג', 1), ('הקואליציונית אופוזיציונית', 1), ('על יסודי', 1), ('אל קיט', 1), ('15 48', 1), ('התשנ 1991', 1), ('על ידם', 1), ('טבת ויזל', 1), ('אי היציבות', 1), ('מתת אלוף', 1), ('המשכי 1381', 1), ('33 016', 1), ('ותל אביב', 1), ('הלא מסומנת', 1), ('עג מי', 1), ('15 35', 1), ('ואג די', 1), ('מיוחדות מס', 1), ('430 20', 1), ('16 430', 1), ('הדרום אפריקאי', 1), ('מפרדס חנה', 1), ('14 06', 1), ('מיוחדות תיקון', 1), ('בקריית אונו', 1), ('התשפ 03', 1), ('שה 50', 1), ('בצ אנס', 1), ('עב כרס', 1), ('מפקד פקוד', 1), ('בין הערביים', 1), ('בשבוע שבועיים', 1), ('קנס תיקון', 1), ('לג וש', 1), ('וה 23', 1), ('וה 22', 1), ('194 663', 1), ('60 840', 1), ('61 000', 1), ('ממאי יולי', 1), ('לו זים', 1), ('שחור לבן', 1), ('133 000', 1), ('121 000', 1), ('89 000', 1), ('653 000', 1), ('289 000', 1), ('תשכ 1961', 1), ('06 2021', 1), ('30 06', 1), ('לידה שלוש', 1), ('מרץ אפריל', 1), ('ואל על', 1), ('הישראלי ערבי', 1), ('ברודצקי לוי', 1), ('בשנייה שלישית', 1), ('בוצ ומינסקי', 1), ('מהיועמ שית', 1), ('חוק היסוד', 1), ('בח יר', 1), ('בסדר יומה', 1), ('2019 2018', 1), ('26 2021', 1), ('יכימוביץ כהן', 1), ('ובייבי סיטריות', 1), ('תשל 1975', 1), ('מה 20', 1), ('239 24', 1), ('ולא מוכרזים', 1), ('לא מוכרזים', 1), ('בשישי שבת', 1), ('הלא מוכרזים', 1), ('הכי הכי', 1), ('כל יכולים', 1), ('ויושבי הראש', 1), ('שיושבת הראש', 1), ('16 2021', 1), ('31 2021', 1), ('מינויים מסירת', 1), ('נגיףהקורונה עובדי', 1), ('דנים דנות', 1), ('ליום יומי', 1), ('בחוקי היסוד', 1), ('חוקי היסוד', 1), ('התשפ 2011', 1), ('56 18', 1), ('התששפ 2021', 1), ('רינאוי זועבי', 1), ('יצחק הלוי', 1), ('פול טיים', 1), ('בין תחומי', 1), ('61 60', 1), ('בכ 11', 1), ('08 50', 1), ('המרכז צפון', 1), ('יומיים שלושה', 1), ('24 25', 1), ('משפטי חוקי', 1), ('המקצועי משפטי', 1), ('הרגשי הפסיכולוגי', 1), ('80 79', 1), ('125 400', 1), ('התרפא 2021', 1), ('סוגיה סוגיה', 1), ('114 115', 1), ('התשפ 2023', 1), ('בוו ינט', 1), ('על ידך', 1), ('19 10', 1), ('פסיכו אקטיביים', 1), ('ופיקוח פטור', 1), ('כושר תיקון', 1), ('לח כיות', 1), ('107 109', 1), ('171 1ב', 1), ('15 54', 1), ('משנה שנתיים', 1), ('טכנולוגי תיקון', 1), ('24 2312', 1), ('זכויות יסוד', 1), ('שב 2018', 1), ('מהקרן מהמועצה', 1), ('מה 26', 1), ('2402 24', 1), ('2403 24', 1), ('2236 24', 1), ('55 24', 1), ('הסמנכ לית', 1), ('לג לג', 1), ('מוסרי לאומי', 1), ('הבית ספרית', 1), ('2011 2009', 1), ('2041 24', 1), ('2155 24', 1), ('1828 24', 1), ('הרחוק הרחוק', 1), ('29 594', 1), ('פולו אפים', 1), ('11 21', 1), ('הבין ארגוני', 1), ('היושב הראש', 1), ('אל עניד', 1), ('רב פעמיים', 1), ('חברתיים כלכליים', 1), ('החברתית כלכלית', 1), ('209 0263913', 1), ('וסדר יומו', 1), ('היום הפחתת', 1), ('אנג לס', 1), ('08 002', 1), ('מבתי החולים', 1), ('מבית חולים', 1), ('380 000', 1), ('34 600', 1), ('בהצעות לסדר', 1), ('ונגמ שים', 1), ('מס מיטלטלין', 1), ('40 30', 1), ('אלגנטיים למשל', 1), ('קצא red', 1), ('רינאווי זועבי', 1), ('חוץ ביתית', 1), ('שקד גיטלין', 1), ('שב 31', 1), ('ל1 150', 1), ('הפנים ממשלתי', 1), ('הפנים ממשלתיים', 1), ('follow up', 1), ('מה follow', 1), ('שיושבת ראש', 1), ('1888 24', 1), ('2094 24', 1), ('2421 38', 1), ('2422 65', 1), ('שיכו ון', 1), ('לג ודו', 1), ('730 000', 1), ('15 תיקון', 1), ('כיושבי ראש', 1), ('58 ה1', 1), ('תשס 2008', 1), ('12 21', 1), ('22 12', 1), ('בוצ מנסקי', 1), ('וב 2018', 1), ('2021 בתיקון', 1), ('27 12', 1), ('220 24', 1), ('לאומיים הוראת', 1), ('מורות חיילות', 1), ('בן שם', 1), ('אל וחואח', 1), ('24 220', 1), ('שעה שינוי', 1), ('תעמולה תיקון', 1), ('12 2921', 1), ('שעה מס', 1), ('בשלושת ארבעת', 1), ('70 60', 1), ('464 24', 1), ('970 24', 1), ('1187 24', 1), ('ילדה אישה', 1), ('להב קניזו', 1), ('בכ 69', 1), ('בכ 36', 1), ('86 87', 1), ('המטכ לי', 1), ('ויו רית', 1), ('החברתית סביבתית', 1), ('09 01', 1), ('לסדר יומה', 1), ('אל אטרש', 1), ('וב מה', 1), ('11 2022', 1), ('מזל טים', 1), ('12 01', 1), ('בודאי היימן', 1), ('09 50', 1), ('מורנו אוחנה', 1), ('וסמנכ לים', 1), ('ריצ ארד', 1), ('מאיסט סטנפורד', 1), ('כמו כן', 1), ('כעובד עובדת', 1), ('ובטח ובטח', 1), ('18 2022', 1), ('933 24', 1), ('סופר חשוב', 1), ('וליושבת ראש', 1), ('ותמ לים', 1), ('11 הארכת', 1), ('על תיכוניים', 1), ('חוץ בנקאיים', 1), ('היי טקס', 1), ('בין עירוני', 1), ('הג וניורים', 1), ('25 2022', 1), ('ורב פקד', 1), ('26 2022', 1), ('נייד תיקון', 1), ('החדשה בידוד', 1), ('31 22', 1), ('פינס פז', 1), ('2457 24', 1), ('2271 24', 1), ('סגן ניצב', 1), ('01 02', 1), ('וב 50', 1), ('כשנה שנתיים', 1), ('2654 24', 1), ('תיקון חידוש', 1), ('16 חידוש', 1), ('הוותיקים תיקון', 1), ('העל תיכוניים', 1), ('408 24', 1), ('2699 24', 1), ('14 90', 1), ('19 90', 1), ('מג וריים', 1), ('41 21', 1), ('21 41', 1), ('התשפ 2002', 1), ('שתכ לס', 1), ('2015 2020', 1), ('1606 24', 1), ('2279 24', 1), ('וניו זילנד', 1), ('כשה oecd', 1), ('הבנצ מרק', 1), ('בוצ ימנסקי', 1), ('08 02', 1), ('24 464', 1), ('על ידנו', 1), ('2217 24', 1), ('1859 24', 1), ('1935 24', 1), ('הרה אסון', 1), ('14 02', 1), ('הצדיק שייח', 1), ('אי ביטחון', 1), ('אי הביטחון', 1), ('באי הביטחון', 1), ('לאי ביטחון', 1), ('660 000', 1), ('מרכז על', 1), ('הסמוטריצ ים', 1), ('הקודמות 959', 1), ('2014 2015', 1), ('רפואיים שיקומיים', 1), ('הגיאו חברתית', 1), ('122 000', 1), ('אי הצגת', 1), ('רקסים תמונת', 1), ('16 02', 1), ('296 24', 1), ('מעבידים תיקון', 1), ('שעה דמי', 1), ('מה fda', 1), ('בדו גלגליים', 1), ('2135 24', 1), ('21 2022', 1), ('21 02', 1), ('עמוק עמוק', 1), ('וה opt', 1), ('בטיק טוק', 1), ('159 24', 1), ('02 03', 1), ('לה יל', 1), ('96 000', 1), ('התשמ 1980', 1), ('הממלכתי דתית', 1), ('הר המור', 1), ('רגשי נפשי', 1), ('מליז נסק', 1), ('22 22', 1), ('בתת אכיפה', 1), ('ועל כך', 1), ('שב 500', 1), ('וארצות הברית', 1), ('ומהמנכ לית', 1), ('מוסטפא סלימאן', 1), ('שכ 100', 1), ('17 67', 1), ('22 62', 1), ('אדמה נילל', 1), ('28 2022', 1), ('לכ 75', 1), ('פוסט טראומטי', 1), ('בבתי ספר', 1), ('להט בית', 1), ('בכ 2500', 1), ('01 03', 1), ('כסרא סמיע', 1), ('40 50', 1), ('000 400', 1), ('2849 24', 1), ('ומאוד מאוד', 1), ('כשב 2017', 1), ('וחכ יות', 1), ('אי עטיית', 1), ('12276 24', 1), ('23 24', 1), ('על יד', 1), ('מכל רע', 1), ('את נפשך', 1), ('וה fine', 1), ('רם און', 1), ('בכ 300', 1), ('אל פיטר', 1), ('וליועמ שית', 1), ('גנס עו', 1), ('הימל ים', 1), ('שעתיים שלוש', 1), ('1416 24', 1), ('3018 24', 1), ('שיום יום', 1), ('חברתית גאוגרפית', 1), ('זנזורי פריאל', 1), ('13 36', 1), ('התעשייתית תעסוקתית', 1), ('2139 24', 1), ('חוק חוק', 1), ('צו צו', 1), ('בר חוה', 1), ('3684 24', 1), ('3665 24', 1), ('3041 24', 1), ('3412 24', 1), ('אף על', 1)]\n"
     ]
    },
    {
     "data": {
      "text/plain": "<Figure size 432x288 with 1 Axes>",
      "image/png": "[encoded data removed]"
     },
     "metadata": {
      "needs_background": "light"
     },
     "output_type": "display_data"
    },
    {
     "data": {
      "text/plain": "<Figure size 432x288 with 1 Axes>",
      "image/png": "[encoded data removed]"
     },
     "metadata": {
      "needs_background": "light"
     },
     "output_type": "display_data"
    }
   ],
   "source": [
    "plot_top_n_bigrams_hist(text, stop_words, 25, True)"
   ],
   "metadata": {
    "collapsed": false,
    "pycharm": {
     "name": "#%%\n"
    }
   }
  }
 ],
 "metadata": {
  "kernelspec": {
   "display_name": "Python 3",
   "language": "python",
   "name": "python3"
  },
  "language_info": {
   "codemirror_mode": {
    "name": "ipython",
    "version": 2
   },
   "file_extension": ".py",
   "mimetype": "text/x-python",
   "name": "python",
   "nbconvert_exporter": "python",
   "pygments_lexer": "ipython2",
   "version": "2.7.6"
  }
 },
 "nbformat": 4,
 "nbformat_minor": 0
}