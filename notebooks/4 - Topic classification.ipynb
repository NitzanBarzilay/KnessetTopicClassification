{
 "cells": [
  {
   "cell_type": "code",
   "execution_count": 4,
   "outputs": [],
   "source": [
    "import pandas as pd\n",
    "from sklearn.model_selection import train_test_split\n",
    "from sklearn.feature_extraction.text import CountVectorizer, TfidfTransformer\n",
    "from sklearn.linear_model import LogisticRegression\n",
    "from sklearn.ensemble import RandomForestClassifier\n",
    "from sklearn.metrics import confusion_matrix,precision_score\n",
    "from sklearn.metrics import recall_score,f1_score,accuracy_score\n",
    "from sklearn.metrics import classification_report"
   ],
   "metadata": {
    "collapsed": false,
    "pycharm": {
     "name": "#%%\n"
    }
   }
  },
  {
   "cell_type": "markdown",
   "source": [
    "# Split data\n",
    "into training and test sets"
   ],
   "metadata": {
    "collapsed": false,
    "pycharm": {
     "name": "#%% md\n"
    }
   }
  },
  {
   "cell_type": "code",
   "execution_count": 3,
   "outputs": [
    {
     "data": {
      "text/plain": "        Type  QuoteWordCount  QuoteLen            StartDate  \\\n0  Committee           114.0     690.0  2022-01-17 12:00:00   \n1  Committee           114.0     690.0  2022-01-17 12:00:00   \n2  Committee           110.0     625.0  2021-03-03 14:00:00   \n3  Committee           133.0     696.0  2017-02-21 11:00:00   \n4  Committee           113.0     577.0  2017-02-20 10:30:00   \n\n                                           Speaker  \\\n0     << יור >> היו\"ר אפרת רייטן מרום: << יור >>     \n1     << יור >> היו\"ר אפרת רייטן מרום: << יור >>     \n2   << דובר >> מיכל וונש (כחול לבן): << דובר >>      \n3                                 היו\"ר דוד אמסלם:   \n4                               היו\"ר קארין אלהרר:   \n\n                                           QuoteText  \\\n0  בשיחות שקיימתי עם האוצר ובשיחות שקיימתי אם יוש...   \n1  בשיחות שקיימתי עם האוצר ובשיחות שקיימתי אם יוש...   \n2  כן בהקשר הנכון, אדוני היושב-ראש, כיוון שהביקור...   \n3  אני אומר בגדול, בסך הכול יש לנו אתרים מקודשים ...   \n4  תראו, אנחנו עוסקים היום בנושא כאוב ועצוב. הוא ...   \n\n                               NonStopwordsQuoteText     Tag  \n0  בשיחות שקיימתי האוצר ובשיחות שקיימתי יושב-ראש ...   כלכלי  \n1  בשיחות שקיימתי האוצר ובשיחות שקיימתי יושב-ראש ...   כלכלי  \n2  בהקשר הנכון היושב-ראש כיוון שהביקורת הסגירה הס...  קורונה  \n3  בגדול בסך הכול אתרים מקודשים לעם היהודי לעם הי...     בלי  \n4  תראו עוסקים כאוב ועצוב כאוב ועצוב פעמיים רשלנו...  בריאות  ",
      "text/html": "<div>\n<style scoped>\n    .dataframe tbody tr th:only-of-type {\n        vertical-align: middle;\n    }\n\n    .dataframe tbody tr th {\n        vertical-align: top;\n    }\n\n    .dataframe thead th {\n        text-align: right;\n    }\n</style>\n<table border=\"1\" class=\"dataframe\">\n  <thead>\n    <tr style=\"text-align: right;\">\n      <th></th>\n      <th>Type</th>\n      <th>QuoteWordCount</th>\n      <th>QuoteLen</th>\n      <th>StartDate</th>\n      <th>Speaker</th>\n      <th>QuoteText</th>\n      <th>NonStopwordsQuoteText</th>\n      <th>Tag</th>\n    </tr>\n  </thead>\n  <tbody>\n    <tr>\n      <th>0</th>\n      <td>Committee</td>\n      <td>114.0</td>\n      <td>690.0</td>\n      <td>2022-01-17 12:00:00</td>\n      <td>&lt;&lt; יור &gt;&gt; היו\"ר אפרת רייטן מרום: &lt;&lt; יור &gt;&gt;</td>\n      <td>בשיחות שקיימתי עם האוצר ובשיחות שקיימתי אם יוש...</td>\n      <td>בשיחות שקיימתי האוצר ובשיחות שקיימתי יושב-ראש ...</td>\n      <td>כלכלי</td>\n    </tr>\n    <tr>\n      <th>1</th>\n      <td>Committee</td>\n      <td>114.0</td>\n      <td>690.0</td>\n      <td>2022-01-17 12:00:00</td>\n      <td>&lt;&lt; יור &gt;&gt; היו\"ר אפרת רייטן מרום: &lt;&lt; יור &gt;&gt;</td>\n      <td>בשיחות שקיימתי עם האוצר ובשיחות שקיימתי אם יוש...</td>\n      <td>בשיחות שקיימתי האוצר ובשיחות שקיימתי יושב-ראש ...</td>\n      <td>כלכלי</td>\n    </tr>\n    <tr>\n      <th>2</th>\n      <td>Committee</td>\n      <td>110.0</td>\n      <td>625.0</td>\n      <td>2021-03-03 14:00:00</td>\n      <td>&lt;&lt; דובר &gt;&gt; מיכל וונש (כחול לבן): &lt;&lt; דובר &gt;&gt;</td>\n      <td>כן בהקשר הנכון, אדוני היושב-ראש, כיוון שהביקור...</td>\n      <td>בהקשר הנכון היושב-ראש כיוון שהביקורת הסגירה הס...</td>\n      <td>קורונה</td>\n    </tr>\n    <tr>\n      <th>3</th>\n      <td>Committee</td>\n      <td>133.0</td>\n      <td>696.0</td>\n      <td>2017-02-21 11:00:00</td>\n      <td>היו\"ר דוד אמסלם:</td>\n      <td>אני אומר בגדול, בסך הכול יש לנו אתרים מקודשים ...</td>\n      <td>בגדול בסך הכול אתרים מקודשים לעם היהודי לעם הי...</td>\n      <td>בלי</td>\n    </tr>\n    <tr>\n      <th>4</th>\n      <td>Committee</td>\n      <td>113.0</td>\n      <td>577.0</td>\n      <td>2017-02-20 10:30:00</td>\n      <td>היו\"ר קארין אלהרר:</td>\n      <td>תראו, אנחנו עוסקים היום בנושא כאוב ועצוב. הוא ...</td>\n      <td>תראו עוסקים כאוב ועצוב כאוב ועצוב פעמיים רשלנו...</td>\n      <td>בריאות</td>\n    </tr>\n  </tbody>\n</table>\n</div>"
     },
     "execution_count": 3,
     "metadata": {},
     "output_type": "execute_result"
    }
   ],
   "source": [
    "df = pd.read_csv(f'../data/6 - Classification data/full_classification_df.csv')\n",
    "df.head()"
   ],
   "metadata": {
    "collapsed": false,
    "pycharm": {
     "name": "#%%\n"
    }
   }
  },
  {
   "cell_type": "code",
   "execution_count": 14,
   "outputs": [
    {
     "name": "stdout",
     "output_type": "stream",
     "text": [
      "Tags distribution:\n",
      "\n",
      "train tags\n",
      " בלי           877\n",
      "חינוך         186\n",
      "רווחה         171\n",
      "קורונה        159\n",
      "כלכלי         151\n",
      "בריאות        140\n",
      "נשים          131\n",
      "בטחון פנים     81\n",
      "בטחון          70\n",
      "Name: Tag, dtype: int64 \n",
      "\n",
      "test tags\n",
      " בלי           207\n",
      "קורונה         53\n",
      "כלכלי          44\n",
      "נשים           39\n",
      "חינוך          34\n",
      "רווחה          34\n",
      "בטחון          31\n",
      "בריאות         28\n",
      "בטחון פנים     22\n",
      "Name: Tag, dtype: int64\n"
     ]
    }
   ],
   "source": [
    "X = df['NonStopwordsQuoteText']\n",
    "y = df['Tag']\n",
    "names = [\"X_train\", \"X_test\", \"y_train\", \"y_test\" ]\n",
    "X_train, X_test, y_train, y_test = train_test_split(X, y, test_size=0.2, random_state=42)\n",
    "for name, data in enumerate([X_train, X_test, y_train, y_test]):\n",
    "    data.reset_index(drop=True, inplace=True)\n",
    "    data.to_csv(f'../data/6 - Classification data/{names[name]}.csv')\n",
    "\n",
    "print(\"Tags distribution:\\n\")\n",
    "print(\"train tags\\n\", y_train.value_counts(),\"\\n\")\n",
    "print(\"test tags\\n\",y_test.value_counts())"
   ],
   "metadata": {
    "collapsed": false,
    "pycharm": {
     "name": "#%%\n"
    }
   }
  },
  {
   "cell_type": "markdown",
   "source": [
    "# Classificaiton models\n",
    "### Logistic Regression"
   ],
   "metadata": {
    "collapsed": false,
    "pycharm": {
     "name": "#%% md\n"
    }
   }
  },
  {
   "cell_type": "code",
   "execution_count": null,
   "outputs": [],
   "source": [],
   "metadata": {
    "collapsed": false,
    "pycharm": {
     "name": "#%%\n"
    }
   }
  },
  {
   "cell_type": "markdown",
   "source": [
    "### SVM"
   ],
   "metadata": {
    "collapsed": false,
    "pycharm": {
     "name": "#%% md\n"
    }
   }
  },
  {
   "cell_type": "code",
   "execution_count": null,
   "outputs": [],
   "source": [],
   "metadata": {
    "collapsed": false,
    "pycharm": {
     "name": "#%%\n"
    }
   }
  },
  {
   "cell_type": "markdown",
   "source": [
    "### XGBoost"
   ],
   "metadata": {
    "collapsed": false,
    "pycharm": {
     "name": "#%% md\n"
    }
   }
  },
  {
   "cell_type": "code",
   "execution_count": null,
   "outputs": [],
   "source": [],
   "metadata": {
    "collapsed": false,
    "pycharm": {
     "name": "#%%\n"
    }
   }
  },
  {
   "cell_type": "markdown",
   "source": [
    "### AlephBERT"
   ],
   "metadata": {
    "collapsed": false,
    "pycharm": {
     "name": "#%% md\n"
    }
   }
  },
  {
   "cell_type": "code",
   "execution_count": null,
   "outputs": [],
   "source": [],
   "metadata": {
    "collapsed": false,
    "pycharm": {
     "name": "#%%\n"
    }
   }
  },
  {
   "cell_type": "markdown",
   "source": [
    "# Evaluation"
   ],
   "metadata": {
    "collapsed": false,
    "pycharm": {
     "name": "#%% md\n"
    }
   }
  },
  {
   "cell_type": "code",
   "execution_count": null,
   "outputs": [],
   "source": [],
   "metadata": {
    "collapsed": false,
    "pycharm": {
     "name": "#%%\n"
    }
   }
  }
 ],
 "metadata": {
  "kernelspec": {
   "display_name": "Python 3",
   "language": "python",
   "name": "python3"
  },
  "language_info": {
   "codemirror_mode": {
    "name": "ipython",
    "version": 2
   },
   "file_extension": ".py",
   "mimetype": "text/x-python",
   "name": "python",
   "nbconvert_exporter": "python",
   "pygments_lexer": "ipython2",
   "version": "2.7.6"
  }
 },
 "nbformat": 4,
 "nbformat_minor": 0
}