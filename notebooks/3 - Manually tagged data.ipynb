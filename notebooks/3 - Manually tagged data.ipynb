{
 "cells": [
  {
   "cell_type": "code",
   "execution_count": 212,
   "metadata": {
    "collapsed": true,
    "pycharm": {
     "name": "#%%\n"
    }
   },
   "outputs": [],
   "source": [
    "import pandas as pd\n",
    "import numpy as np\n",
    "import matplotlib.pyplot as plt\n",
    "from utility_functions import *"
   ]
  },
  {
   "cell_type": "markdown",
   "source": [
    "# Merge the dataframes of automatic and manual tags"
   ],
   "metadata": {
    "collapsed": false,
    "pycharm": {
     "name": "#%% md\n"
    }
   }
  },
  {
   "cell_type": "code",
   "execution_count": 257,
   "outputs": [
    {
     "data": {
      "text/plain": "       $Type  QuoteWordCount  QuoteLen            StartDate  \\\n0  Committee           114.0     690.0  2022-01-17 12:00:00   \n1  Committee           114.0     690.0  2022-01-17 12:00:00   \n2  Committee           110.0     625.0  2021-03-03 14:00:00   \n3  Committee           133.0     696.0  2017-02-21 11:00:00   \n4  Committee           113.0     577.0  2017-02-20 10:30:00   \n\n                                           Speaker  \\\n0     << יור >> היו\"ר אפרת רייטן מרום: << יור >>     \n1     << יור >> היו\"ר אפרת רייטן מרום: << יור >>     \n2   << דובר >> מיכל וונש (כחול לבן): << דובר >>      \n3                                 היו\"ר דוד אמסלם:   \n4                               היו\"ר קארין אלהרר:   \n\n                                           QuoteText  \\\n0  בשיחות שקיימתי עם האוצר ובשיחות שקיימתי אם יוש...   \n1  בשיחות שקיימתי עם האוצר ובשיחות שקיימתי אם יוש...   \n2  כן בהקשר הנכון, אדוני היושב-ראש, כיוון שהביקור...   \n3  אני אומר בגדול, בסך הכול יש לנו אתרים מקודשים ...   \n4  תראו, אנחנו עוסקים היום בנושא כאוב ועצוב. הוא ...   \n\n                               NonStopwordsQuoteText ManualTopic AutoTopic  \\\n0  בשיחות שקיימתי האוצר ובשיחות שקיימתי יושב-ראש ...       כלכלי     בטחון   \n1  בשיחות שקיימתי האוצר ובשיחות שקיימתי יושב-ראש ...       כלכלי     בטחון   \n2  בהקשר הנכון היושב-ראש כיוון שהביקורת הסגירה הס...      קורונה     בטחון   \n3  בגדול בסך הכול אתרים מקודשים לעם היהודי לעם הי...         בלי     בטחון   \n4  תראו עוסקים כאוב ועצוב כאוב ועצוב פעמיים רשלנו...      בריאות     בטחון   \n\n   Topic_Prob  Batch                                         TopicWords  \n0    0.984901    3.0  ('0.007*\"חיילים\" + 0.004*\"וביטחון\" + 0.004*\"וע...  \n1    0.984901    3.0  ('0.007*\"חיילים\" + 0.004*\"וביטחון\" + 0.004*\"וע...  \n2    0.984432    3.0  ('0.007*\"חיילים\" + 0.004*\"וביטחון\" + 0.004*\"וע...  \n3    0.984175    3.0  ('0.007*\"חיילים\" + 0.004*\"וביטחון\" + 0.004*\"וע...  \n4    0.983175    7.0  ('0.004*\"הדברים\" + 0.003*\"צריכים\" + 0.003*\"הבי...  ",
      "text/html": "<div>\n<style scoped>\n    .dataframe tbody tr th:only-of-type {\n        vertical-align: middle;\n    }\n\n    .dataframe tbody tr th {\n        vertical-align: top;\n    }\n\n    .dataframe thead th {\n        text-align: right;\n    }\n</style>\n<table border=\"1\" class=\"dataframe\">\n  <thead>\n    <tr style=\"text-align: right;\">\n      <th></th>\n      <th>$Type</th>\n      <th>QuoteWordCount</th>\n      <th>QuoteLen</th>\n      <th>StartDate</th>\n      <th>Speaker</th>\n      <th>QuoteText</th>\n      <th>NonStopwordsQuoteText</th>\n      <th>ManualTopic</th>\n      <th>AutoTopic</th>\n      <th>Topic_Prob</th>\n      <th>Batch</th>\n      <th>TopicWords</th>\n    </tr>\n  </thead>\n  <tbody>\n    <tr>\n      <th>0</th>\n      <td>Committee</td>\n      <td>114.0</td>\n      <td>690.0</td>\n      <td>2022-01-17 12:00:00</td>\n      <td>&lt;&lt; יור &gt;&gt; היו\"ר אפרת רייטן מרום: &lt;&lt; יור &gt;&gt;</td>\n      <td>בשיחות שקיימתי עם האוצר ובשיחות שקיימתי אם יוש...</td>\n      <td>בשיחות שקיימתי האוצר ובשיחות שקיימתי יושב-ראש ...</td>\n      <td>כלכלי</td>\n      <td>בטחון</td>\n      <td>0.984901</td>\n      <td>3.0</td>\n      <td>('0.007*\"חיילים\" + 0.004*\"וביטחון\" + 0.004*\"וע...</td>\n    </tr>\n    <tr>\n      <th>1</th>\n      <td>Committee</td>\n      <td>114.0</td>\n      <td>690.0</td>\n      <td>2022-01-17 12:00:00</td>\n      <td>&lt;&lt; יור &gt;&gt; היו\"ר אפרת רייטן מרום: &lt;&lt; יור &gt;&gt;</td>\n      <td>בשיחות שקיימתי עם האוצר ובשיחות שקיימתי אם יוש...</td>\n      <td>בשיחות שקיימתי האוצר ובשיחות שקיימתי יושב-ראש ...</td>\n      <td>כלכלי</td>\n      <td>בטחון</td>\n      <td>0.984901</td>\n      <td>3.0</td>\n      <td>('0.007*\"חיילים\" + 0.004*\"וביטחון\" + 0.004*\"וע...</td>\n    </tr>\n    <tr>\n      <th>2</th>\n      <td>Committee</td>\n      <td>110.0</td>\n      <td>625.0</td>\n      <td>2021-03-03 14:00:00</td>\n      <td>&lt;&lt; דובר &gt;&gt; מיכל וונש (כחול לבן): &lt;&lt; דובר &gt;&gt;</td>\n      <td>כן בהקשר הנכון, אדוני היושב-ראש, כיוון שהביקור...</td>\n      <td>בהקשר הנכון היושב-ראש כיוון שהביקורת הסגירה הס...</td>\n      <td>קורונה</td>\n      <td>בטחון</td>\n      <td>0.984432</td>\n      <td>3.0</td>\n      <td>('0.007*\"חיילים\" + 0.004*\"וביטחון\" + 0.004*\"וע...</td>\n    </tr>\n    <tr>\n      <th>3</th>\n      <td>Committee</td>\n      <td>133.0</td>\n      <td>696.0</td>\n      <td>2017-02-21 11:00:00</td>\n      <td>היו\"ר דוד אמסלם:</td>\n      <td>אני אומר בגדול, בסך הכול יש לנו אתרים מקודשים ...</td>\n      <td>בגדול בסך הכול אתרים מקודשים לעם היהודי לעם הי...</td>\n      <td>בלי</td>\n      <td>בטחון</td>\n      <td>0.984175</td>\n      <td>3.0</td>\n      <td>('0.007*\"חיילים\" + 0.004*\"וביטחון\" + 0.004*\"וע...</td>\n    </tr>\n    <tr>\n      <th>4</th>\n      <td>Committee</td>\n      <td>113.0</td>\n      <td>577.0</td>\n      <td>2017-02-20 10:30:00</td>\n      <td>היו\"ר קארין אלהרר:</td>\n      <td>תראו, אנחנו עוסקים היום בנושא כאוב ועצוב. הוא ...</td>\n      <td>תראו עוסקים כאוב ועצוב כאוב ועצוב פעמיים רשלנו...</td>\n      <td>בריאות</td>\n      <td>בטחון</td>\n      <td>0.983175</td>\n      <td>7.0</td>\n      <td>('0.004*\"הדברים\" + 0.003*\"צריכים\" + 0.003*\"הבי...</td>\n    </tr>\n  </tbody>\n</table>\n</div>"
     },
     "execution_count": 257,
     "metadata": {},
     "output_type": "execute_result"
    }
   ],
   "source": [
    "# quotes tagged automatically in the topic modeling phase:\n",
    "auto_df = pd.read_csv(f\"../data/4 - Auto tagged data/auto_tagged_data.csv\").rename(columns={\"Topic\": \"AutoTopic\"})\n",
    "# quites tagged manually:\n",
    "man_df = pd.read_csv(\"../data/5 - Manually tagged data/manually_tagged_data.csv\")[['QuoteText','Topic','OriginalTopic','Topic_Prob']].drop_duplicates('QuoteText').reset_index(drop=True)\n",
    "man_df.rename(columns={\"Topic\":\"ManualTopic\", \"OriginalTopic\": \"AutoTopic\"}, inplace=True)\n",
    "joined_df = man_df.merge(auto_df, on=['QuoteText','AutoTopic','Topic_Prob'], how=\"left\")\n",
    "joined_df = joined_df[['$Type', 'QuoteWordCount','QuoteLen','StartDate', 'Speaker', 'QuoteText', 'NonStopwordsQuoteText', 'ManualTopic','AutoTopic', 'Topic_Prob', 'Batch', 'TopicWords']]\n",
    "joined_df.dropna(subset={\"ManualTopic\"}, inplace=True)\n",
    "joined_df.loc[joined_df.ManualTopic == \"דיור\", \"ManualTopic\"] = \"רווחה\"\n",
    "joined_df.head()"
   ],
   "metadata": {
    "collapsed": false,
    "pycharm": {
     "name": "#%%\n"
    }
   }
  },
  {
   "cell_type": "markdown",
   "source": [
    "# Examine trial models' success rates\n",
    "For each model, I only examined topics that were originally manually marked by me with a topic name. For each of these, I only examined quoted that were tagged manually.\n",
    "Each model's success is measured by 3 metrics:\n",
    "- identifying \"interesting\" quotes: how many of the quotes that the model assigned to a topic were interesting (meaning - not tagged as \"no topic\")\n",
    "- Accuracy by topic: for each topic that the model identified, how many of the quotes that the model assigned to that topic were actually tagged with that topic\n",
    "- Total accuracy: how many of the quotes that the model assigned to a topic were actually tagged with that topic\n"
   ],
   "metadata": {
    "collapsed": false,
    "pycharm": {
     "name": "#%% md\n"
    }
   }
  },
  {
   "cell_type": "code",
   "execution_count": 227,
   "outputs": [
    {
     "name": "stdout",
     "output_type": "stream",
     "text": [
      "--------------------------------------- TRIAL 1 ---------------------------------------\n",
      "Trial model's success in identifying 'interesting' quotes (that has a topic): 69.03%\n",
      "\n",
      "Trial model accuracy by topic:\n",
      "בטחון: 60.00%\n",
      "חינוך: 49.32%\n",
      "נשים: 25.00%\n",
      "קורונה: 30.12%\n",
      "\n",
      "Trial model total accuracy:\n",
      "Accurate tags: 29.35%\n",
      "Inaccurate tags: 70.65% (30.97% are 'non topic')\n",
      "\n",
      "--------------------------------------- TRIAL 2 ---------------------------------------\n",
      "Trial model's success in identifying 'interesting' quotes (that has a topic): 51.38%\n",
      "\n",
      "Trial model accuracy by topic:\n",
      "בריאות: 23.08%\n",
      "חינוך: 41.67%\n",
      "נשים: 17.24%\n",
      "קורונה: 44.83%\n",
      "\n",
      "Trial model total accuracy:\n",
      "Accurate tags: 24.77%\n",
      "Inaccurate tags: 75.23% (48.62% are 'non topic')\n",
      "\n",
      "--------------------------------------- TRIAL 3 ---------------------------------------\n",
      "Trial model's success in identifying 'interesting' quotes (that has a topic): 59.57%\n",
      "\n",
      "Trial model accuracy by topic:\n",
      "בטחון: 15.28%\n",
      "בריאות: 39.02%\n",
      "חינוך: 39.22%\n",
      "נשים: 33.93%\n",
      "קורונה: 35.42%\n",
      "תחבורה: 55.56%\n",
      "\n",
      "Trial model total accuracy:\n",
      "Accurate tags: 16.25%\n",
      "Inaccurate tags: 83.75% (40.43% are 'non topic')\n",
      "\n",
      "--------------------------------------- TRIAL 4 ---------------------------------------\n",
      "Trial model's success in identifying 'interesting' quotes (that has a topic): 65.73%\n",
      "\n",
      "Trial model accuracy by topic:\n",
      "בטחון: 14.29%\n",
      "בריאות: 46.67%\n",
      "חינוך: 96.15%\n",
      "נשים: 32.08%\n",
      "קורונה: 37.35%\n",
      "תחבורה: 100.00%\n",
      "\n",
      "Trial model total accuracy:\n",
      "Accurate tags: 33.33%\n",
      "Inaccurate tags: 66.67% (34.27% are 'non topic')\n",
      "\n",
      "--------------------------------------- TRIAL 5 ---------------------------------------\n",
      "Trial model's success in identifying 'interesting' quotes (that has a topic): 58.10%\n",
      "\n",
      "Trial model accuracy by topic:\n",
      "בריאות: 22.70%\n",
      "חינוך: 65.22%\n",
      "נשים: 41.35%\n",
      "קורונה: 80.56%\n",
      "רווחה: 32.76%\n",
      "\n",
      "Trial model total accuracy:\n",
      "Accurate tags: 23.94%\n",
      "Inaccurate tags: 76.06% (41.90% are 'non topic')\n",
      "\n",
      "--------------------------------------- TRIAL 6 ---------------------------------------\n",
      "Trial model's success in identifying 'interesting' quotes (that has a topic): 59.37%\n",
      "\n",
      "Trial model accuracy by topic:\n",
      "בריאות: 34.48%\n",
      "חינוך: 23.91%\n",
      "נשים: 23.89%\n",
      "קורונה: 55.81%\n",
      "תחבורה: 75.00%\n",
      "\n",
      "Trial model total accuracy:\n",
      "Accurate tags: 20.46%\n",
      "Inaccurate tags: 79.54% (40.63% are 'non topic')\n",
      "\n",
      "--------------------------------------- TRIAL 7 ---------------------------------------\n",
      "Trial model's success in identifying 'interesting' quotes (that has a topic): 62.96%\n",
      "\n",
      "Trial model accuracy by topic:\n",
      "בטחון: 14.49%\n",
      "בריאות: 35.48%\n",
      "חינוך: 43.28%\n",
      "נשים: 38.46%\n",
      "קורונה: 53.33%\n",
      "\n",
      "Trial model total accuracy:\n",
      "Accurate tags: 19.37%\n",
      "Inaccurate tags: 80.63% (37.04% are 'non topic')\n",
      "\n",
      "--------------------------------------- TRIAL 8 ---------------------------------------\n",
      "Trial model's success in identifying 'interesting' quotes (that has a topic): 58.44%\n",
      "\n",
      "Trial model accuracy by topic:\n",
      "בריאות: 33.33%\n",
      "חינוך: 27.83%\n",
      "נשים: 58.33%\n",
      "קורונה: 43.40%\n",
      "רווחה: 42.27%\n",
      "תחבורה: 12.16%\n",
      "\n",
      "Trial model total accuracy:\n",
      "Accurate tags: 17.75%\n",
      "Inaccurate tags: 82.25% (41.56% are 'non topic')\n",
      "\n"
     ]
    }
   ],
   "source": [
    "auto_batch_df = joined_df[['Batch', 'AutoTopic','ManualTopic']].groupby(['Batch','AutoTopic']).count().reset_index().rename(columns={'ManualTopic':'AutoCount', 'AutoTopic':'Topic'})\n",
    "man_batch_df = joined_df[['Batch', 'AutoTopic','ManualTopic']].groupby(['Batch','ManualTopic']).count().reset_index().rename(columns={'ManualTopic':'Topic', 'AutoTopic':'ManualCount'})\n",
    "\n",
    "batch_df = auto_batch_df.merge(man_batch_df, how=\"left\", on=['Batch','Topic'])\n",
    "batch_df['Accuracy'] = batch_df['ManualCount'] * 100 / batch_df['AutoCount']\n",
    "\n",
    "for batch in sorted(joined_df.Batch.unique()):\n",
    "    if pd.isna(batch):\n",
    "        continue\n",
    "    print(f\"--------------------------------------- TRIAL {int(batch)} ---------------------------------------\")\n",
    "    correct_tag = joined_df[(joined_df['Batch'] == batch) & (joined_df['ManualTopic']==joined_df['AutoTopic'])].shape[0]\n",
    "    incorrect_tag = joined_df[(joined_df['Batch'] == batch) & (joined_df['ManualTopic']!=joined_df['AutoTopic'])].shape[0]\n",
    "    none_tags = joined_df[(joined_df['Batch'] == batch) & (joined_df['ManualTopic']=='בלי')].shape[0]\n",
    "    total_tag = joined_df[joined_df['Batch'] == batch].shape[0]\n",
    "    accuracy = correct_tag * 100 / total_tag\n",
    "    print(f\"Trial model's success in identifying 'interesting' quotes (that has a topic): {'{:.2f}'.format(100 - (none_tags * 100 / total_tag))}%\")\n",
    "    print(\"\\nTrial model accuracy by topic:\")\n",
    "    cur_batch_df = batch_df[batch_df['Batch'] == batch][['Topic','AutoCount','ManualCount','Accuracy']]\n",
    "    for topic in cur_batch_df.Topic.unique():\n",
    "        print(f\"{topic}: {'{:.2f}'.format(cur_batch_df[cur_batch_df.Topic == topic].Accuracy.values[0])}%\")\n",
    "    print(\"\\nTrial model total accuracy:\")\n",
    "    print(f\"Accurate tags: {'{:.2f}'.format(accuracy)}%\")\n",
    "    print(f\"Inaccurate tags: {'{:.2f}'.format(100 - accuracy)}% ({'{:.2f}'.format(none_tags * 100 / total_tag)}% are 'non topic')\\n\")"
   ],
   "metadata": {
    "collapsed": false,
    "pycharm": {
     "name": "#%%\n"
    }
   }
  },
  {
   "cell_type": "markdown",
   "source": [
    "# Examine final tagged data for the classification phase"
   ],
   "metadata": {
    "collapsed": false,
    "pycharm": {
     "name": "#%% md\n"
    }
   }
  },
  {
   "cell_type": "code",
   "execution_count": 228,
   "outputs": [
    {
     "name": "stdout",
     "output_type": "stream",
     "text": [
      "Total number of tagged quotes: 2741\n",
      "Amount of interesting quotes (have a topic): 1657\n",
      "Amount of uninteresting quotes (doesn't have a topic): 1084\n"
     ]
    },
    {
     "data": {
      "text/plain": "<Figure size 432x288 with 1 Axes>",
      "image/png": "[encoded data removed]"
     },
     "metadata": {},
     "output_type": "display_data"
    }
   ],
   "source": [
    "# overview\n",
    "total = joined_df.shape[0]\n",
    "non_tags = joined_df[joined_df.ManualTopic == 'בלי'].shape[0]\n",
    "interesting = 100 - (non_tags* 100 / joined_df.shape[0])\n",
    "uninteresting = non_tags* 100 / joined_df.shape[0]\n",
    "print(f\"Total number of tagged quotes: {total}\")\n",
    "print(f\"Amount of interesting quotes (have a topic): {total - non_tags}\")\n",
    "print(f\"Amount of uninteresting quotes (doesn't have a topic): {non_tags}\")\n",
    "x = [\"interesting\", \"uninteresting\"]\n",
    "y = np.array([interesting, uninteresting])\n",
    "plt.pie(y,labels=x, autopct=lambda pct: \"{:1.1f}%\".format(pct))\n",
    "plt.title(\"Percentage of interesting quotes\")\n",
    "plt.show()"
   ],
   "metadata": {
    "collapsed": false,
    "pycharm": {
     "name": "#%%\n"
    }
   }
  },
  {
   "cell_type": "code",
   "execution_count": 229,
   "outputs": [
    {
     "data": {
      "text/plain": "<Figure size 432x288 with 1 Axes>",
      "image/png": "[encoded data removed]"
     },
     "metadata": {
      "needs_background": "light"
     },
     "output_type": "display_data"
    }
   ],
   "source": [
    "count_df = joined_df['ManualTopic'].value_counts().reset_index().rename(columns={'index':'Topic', 'ManualTopic':'Count'})\n",
    "count_df['Topic'] = count_df['Topic'].apply(lambda w: w[::-1])\n",
    "count_df.sort_values(by=['Count'], ascending=False, inplace=True)\n",
    "plt.bar(count_df.Topic, count_df.Count)\n",
    "plt.xticks(rotation = 90)\n",
    "plt.title(\"Amount of manually tagged sample by topic\")\n",
    "plt.show()"
   ],
   "metadata": {
    "collapsed": false,
    "pycharm": {
     "name": "#%%\n"
    }
   }
  },
  {
   "cell_type": "code",
   "execution_count": 231,
   "outputs": [
    {
     "name": "stdout",
     "output_type": "stream",
     "text": [
      "------------------------------------ קורונה ------------------------------------\n",
      "Amount of manually tagged samples: 212\n",
      "Amount of automatically tagged samples: 503\n",
      "Accuracy of automatic tag among all trials: 30.62%\n",
      "\n",
      "------------------------------------ חינוך ------------------------------------\n",
      "Amount of manually tagged samples: 220\n",
      "Amount of automatically tagged samples: 505\n",
      "Accuracy of automatic tag among all trials: 30.50%\n",
      "\n",
      "------------------------------------ נשים ------------------------------------\n",
      "Amount of manually tagged samples: 170\n",
      "Amount of automatically tagged samples: 499\n",
      "Accuracy of automatic tag among all trials: 23.05%\n",
      "\n",
      "------------------------------------ רווחה ------------------------------------\n",
      "Amount of manually tagged samples: 205\n",
      "Amount of automatically tagged samples: 374\n",
      "Accuracy of automatic tag among all trials: 19.79%\n",
      "\n",
      "------------------------------------ בריאות ------------------------------------\n",
      "Amount of manually tagged samples: 168\n",
      "Amount of automatically tagged samples: 504\n",
      "Accuracy of automatic tag among all trials: 15.67%\n",
      "\n",
      "------------------------------------ בטחון ------------------------------------\n",
      "Amount of manually tagged samples: 101\n",
      "Amount of automatically tagged samples: 260\n",
      "Accuracy of automatic tag among all trials: 8.46%\n",
      "\n",
      "------------------------------------ תחבורה ------------------------------------\n",
      "Amount of manually tagged samples: 52\n",
      "Amount of automatically tagged samples: 96\n",
      "Accuracy of automatic tag among all trials: 7.29%\n",
      "\n",
      "------------------------------------ אנרגיה ------------------------------------\n",
      "Amount of manually tagged samples: 48\n",
      "Amount of automatically tagged samples: 0\n",
      "\n",
      "------------------------------------ בטחון פנים ------------------------------------\n",
      "Amount of manually tagged samples: 103\n",
      "Amount of automatically tagged samples: 0\n",
      "\n",
      "------------------------------------ דת ------------------------------------\n",
      "Amount of manually tagged samples: 26\n",
      "Amount of automatically tagged samples: 0\n",
      "\n",
      "------------------------------------ התנחלויות ------------------------------------\n",
      "Amount of manually tagged samples: 6\n",
      "Amount of automatically tagged samples: 0\n",
      "\n",
      "------------------------------------ טכנולוגיה ------------------------------------\n",
      "Amount of manually tagged samples: 46\n",
      "Amount of automatically tagged samples: 0\n",
      "\n",
      "------------------------------------ כלכלי ------------------------------------\n",
      "Amount of manually tagged samples: 195\n",
      "Amount of automatically tagged samples: 0\n",
      "\n",
      "------------------------------------ עולים ------------------------------------\n",
      "Amount of manually tagged samples: 47\n",
      "Amount of automatically tagged samples: 0\n",
      "\n",
      "------------------------------------ תרבות ------------------------------------\n",
      "Amount of manually tagged samples: 58\n",
      "Amount of automatically tagged samples: 0\n",
      "\n"
     ]
    }
   ],
   "source": [
    "# by topic\n",
    "topics = sorted(joined_df.ManualTopic.unique())\n",
    "topic_tuples = []\n",
    "for topic in topics:\n",
    "    if topic == \"בלי\":\n",
    "        continue\n",
    "    total_man_samples = joined_df[joined_df.ManualTopic == topic].shape[0]\n",
    "    man_sample_match = joined_df[(joined_df.ManualTopic == topic) & (joined_df.AutoTopic == topic)].shape[0]\n",
    "    auto_samples = joined_df[joined_df['AutoTopic'] == topic].shape[0]\n",
    "    accuracy = '{:.2f}'.format(man_sample_match * 100 / auto_samples) if auto_samples != 0 else -1\n",
    "    topic_tuples.append((topic,total_man_samples, auto_samples, accuracy))\n",
    "topic_tuples.sort(key=lambda x: float(x[3]), reverse=True)\n",
    "\n",
    "for topic,man, auto, acc in topic_tuples:\n",
    "    print(f\"------------------------------------ {topic} ------------------------------------\")\n",
    "    print(f\"Amount of manually tagged samples: {man}\")\n",
    "    print(f\"Amount of automatically tagged samples: {auto}\")\n",
    "    if acc != -1:\n",
    "        print(f\"Accuracy of automatic tag among all trials: {acc}%\")\n",
    "    print()"
   ],
   "metadata": {
    "collapsed": false,
    "pycharm": {
     "name": "#%%\n"
    }
   }
  },
  {
   "cell_type": "markdown",
   "source": [
    "## Choose final topics for the classification phase"
   ],
   "metadata": {
    "collapsed": false,
    "pycharm": {
     "name": "#%% md\n"
    }
   }
  },
  {
   "cell_type": "code",
   "execution_count": 254,
   "outputs": [
    {
     "name": "stdout",
     "output_type": "stream",
     "text": [
      "Final number of samples for classification phase: 1374\n",
      "Final sample count by topic:\n"
     ]
    },
    {
     "data": {
      "text/plain": "        Topic  SampleCount\n1       חינוך          220\n2      קורונה          212\n3       רווחה          205\n4       כלכלי          195\n5        נשים          170\n6      בריאות          168\n7  בטחון פנים          103\n8       בטחון          101",
      "text/html": "<div>\n<style scoped>\n    .dataframe tbody tr th:only-of-type {\n        vertical-align: middle;\n    }\n\n    .dataframe tbody tr th {\n        vertical-align: top;\n    }\n\n    .dataframe thead th {\n        text-align: right;\n    }\n</style>\n<table border=\"1\" class=\"dataframe\">\n  <thead>\n    <tr style=\"text-align: right;\">\n      <th></th>\n      <th>Topic</th>\n      <th>SampleCount</th>\n    </tr>\n  </thead>\n  <tbody>\n    <tr>\n      <th>1</th>\n      <td>חינוך</td>\n      <td>220</td>\n    </tr>\n    <tr>\n      <th>2</th>\n      <td>קורונה</td>\n      <td>212</td>\n    </tr>\n    <tr>\n      <th>3</th>\n      <td>רווחה</td>\n      <td>205</td>\n    </tr>\n    <tr>\n      <th>4</th>\n      <td>כלכלי</td>\n      <td>195</td>\n    </tr>\n    <tr>\n      <th>5</th>\n      <td>נשים</td>\n      <td>170</td>\n    </tr>\n    <tr>\n      <th>6</th>\n      <td>בריאות</td>\n      <td>168</td>\n    </tr>\n    <tr>\n      <th>7</th>\n      <td>בטחון פנים</td>\n      <td>103</td>\n    </tr>\n    <tr>\n      <th>8</th>\n      <td>בטחון</td>\n      <td>101</td>\n    </tr>\n  </tbody>\n</table>\n</div>"
     },
     "execution_count": 254,
     "metadata": {},
     "output_type": "execute_result"
    }
   ],
   "source": [
    "topics_df = count_df = joined_df['ManualTopic'].value_counts().reset_index().rename(columns={'index':'Topic', 'ManualTopic':'SampleCount'}).iloc[1:9, :]\n",
    "final_topics = list(topics_df.Topic.unique()) + ['בלי']\n",
    "print(\"Final number of samples for classification phase:\", topics_df.SampleCount.sum())\n",
    "print(\"Final sample count by topic:\")\n",
    "topics_df"
   ],
   "metadata": {
    "collapsed": false,
    "pycharm": {
     "name": "#%%\n"
    }
   }
  },
  {
   "cell_type": "code",
   "execution_count": 256,
   "outputs": [
    {
     "data": {
      "text/plain": "           Type  QuoteWordCount  QuoteLen            StartDate  \\\n0     Committee           114.0     690.0  2022-01-17 12:00:00   \n1     Committee           114.0     690.0  2022-01-17 12:00:00   \n2     Committee           110.0     625.0  2021-03-03 14:00:00   \n3     Committee           133.0     696.0  2017-02-21 11:00:00   \n4     Committee           113.0     577.0  2017-02-20 10:30:00   \n...         ...             ...       ...                  ...   \n2736  Committee            75.0     433.0  2022-02-21 10:15:00   \n2737  Committee            52.0     268.0  2017-11-14 11:30:00   \n2738  Committee            87.0     502.0  2016-11-28 11:15:00   \n2739  Committee            75.0     413.0  2021-12-21 10:30:00   \n2740  Committee            59.0     321.0  2016-08-01 10:30:00   \n\n                                              Speaker  \\\n0        << יור >> היו\"ר אפרת רייטן מרום: << יור >>     \n1        << יור >> היו\"ר אפרת רייטן מרום: << יור >>     \n2      << דובר >> מיכל וונש (כחול לבן): << דובר >>      \n3                                    היו\"ר דוד אמסלם:   \n4                                  היו\"ר קארין אלהרר:   \n...                                               ...   \n2736      << יור >> היו\"ר אבתיסאם מראענה: << יור >>     \n2737                                     מרב תורג'מן:   \n2738                                  היו\"ר משה גפני:   \n2739      << יור >> היו\"ר שרן מרים השכל: << יור >>      \n2740                                       איילת לוי:   \n\n                                              QuoteText  \\\n0     בשיחות שקיימתי עם האוצר ובשיחות שקיימתי אם יוש...   \n1     בשיחות שקיימתי עם האוצר ובשיחות שקיימתי אם יוש...   \n2     כן בהקשר הנכון, אדוני היושב-ראש, כיוון שהביקור...   \n3     אני אומר בגדול, בסך הכול יש לנו אתרים מקודשים ...   \n4     תראו, אנחנו עוסקים היום בנושא כאוב ועצוב. הוא ...   \n...                                                 ...   \n2736  בוקר טוב לכולן ולכולם. אז אנחנו שמחות ושמחים ל...   \n2737  נכון. כידוע הצעת החוק מסדירה שני נושאים, אחד ז...   \n2738  אנחנו דנים עכשיו בפיצויים ובשיקום לנפגעי ולנזק...   \n2739  ועדת המשנה מאוד מאוד חשובה, הוועדה תעסוק בחינו...   \n2740  התיקון שאנחנו מביאים כאן הוא תיקון לסעיף 102 ל...   \n\n                                  NonStopwordsQuoteText         Tag  \n0     בשיחות שקיימתי האוצר ובשיחות שקיימתי יושב-ראש ...       כלכלי  \n1     בשיחות שקיימתי האוצר ובשיחות שקיימתי יושב-ראש ...       כלכלי  \n2     בהקשר הנכון היושב-ראש כיוון שהביקורת הסגירה הס...      קורונה  \n3     בגדול בסך הכול אתרים מקודשים לעם היהודי לעם הי...         בלי  \n4     תראו עוסקים כאוב ועצוב כאוב ועצוב פעמיים רשלנו...      בריאות  \n...                                                 ...         ...  \n2736  לכולן ולכולם שמחות ושמחים לקיים מעקב אלימות מי...        נשים  \n2737  כידוע מסדירה נושאים הפטור מחובת ביטוח רכב רכוש...  בטחון פנים  \n2738  דנים בפיצויים ובשיקום לנפגעי ולנזקי השריפות עס...  בטחון פנים  \n2739  חשובה תעסוק בחינוך הממלכתי-דתי ששם אתגרים בלתי...       חינוך  \n2740  התיקון מביאים 102 לחוק המשטרה המשטרה דין משמעת...  בטחון פנים  \n\n[2458 rows x 8 columns]",
      "text/html": "<div>\n<style scoped>\n    .dataframe tbody tr th:only-of-type {\n        vertical-align: middle;\n    }\n\n    .dataframe tbody tr th {\n        vertical-align: top;\n    }\n\n    .dataframe thead th {\n        text-align: right;\n    }\n</style>\n<table border=\"1\" class=\"dataframe\">\n  <thead>\n    <tr style=\"text-align: right;\">\n      <th></th>\n      <th>Type</th>\n      <th>QuoteWordCount</th>\n      <th>QuoteLen</th>\n      <th>StartDate</th>\n      <th>Speaker</th>\n      <th>QuoteText</th>\n      <th>NonStopwordsQuoteText</th>\n      <th>Tag</th>\n    </tr>\n  </thead>\n  <tbody>\n    <tr>\n      <th>0</th>\n      <td>Committee</td>\n      <td>114.0</td>\n      <td>690.0</td>\n      <td>2022-01-17 12:00:00</td>\n      <td>&lt;&lt; יור &gt;&gt; היו\"ר אפרת רייטן מרום: &lt;&lt; יור &gt;&gt;</td>\n      <td>בשיחות שקיימתי עם האוצר ובשיחות שקיימתי אם יוש...</td>\n      <td>בשיחות שקיימתי האוצר ובשיחות שקיימתי יושב-ראש ...</td>\n      <td>כלכלי</td>\n    </tr>\n    <tr>\n      <th>1</th>\n      <td>Committee</td>\n      <td>114.0</td>\n      <td>690.0</td>\n      <td>2022-01-17 12:00:00</td>\n      <td>&lt;&lt; יור &gt;&gt; היו\"ר אפרת רייטן מרום: &lt;&lt; יור &gt;&gt;</td>\n      <td>בשיחות שקיימתי עם האוצר ובשיחות שקיימתי אם יוש...</td>\n      <td>בשיחות שקיימתי האוצר ובשיחות שקיימתי יושב-ראש ...</td>\n      <td>כלכלי</td>\n    </tr>\n    <tr>\n      <th>2</th>\n      <td>Committee</td>\n      <td>110.0</td>\n      <td>625.0</td>\n      <td>2021-03-03 14:00:00</td>\n      <td>&lt;&lt; דובר &gt;&gt; מיכל וונש (כחול לבן): &lt;&lt; דובר &gt;&gt;</td>\n      <td>כן בהקשר הנכון, אדוני היושב-ראש, כיוון שהביקור...</td>\n      <td>בהקשר הנכון היושב-ראש כיוון שהביקורת הסגירה הס...</td>\n      <td>קורונה</td>\n    </tr>\n    <tr>\n      <th>3</th>\n      <td>Committee</td>\n      <td>133.0</td>\n      <td>696.0</td>\n      <td>2017-02-21 11:00:00</td>\n      <td>היו\"ר דוד אמסלם:</td>\n      <td>אני אומר בגדול, בסך הכול יש לנו אתרים מקודשים ...</td>\n      <td>בגדול בסך הכול אתרים מקודשים לעם היהודי לעם הי...</td>\n      <td>בלי</td>\n    </tr>\n    <tr>\n      <th>4</th>\n      <td>Committee</td>\n      <td>113.0</td>\n      <td>577.0</td>\n      <td>2017-02-20 10:30:00</td>\n      <td>היו\"ר קארין אלהרר:</td>\n      <td>תראו, אנחנו עוסקים היום בנושא כאוב ועצוב. הוא ...</td>\n      <td>תראו עוסקים כאוב ועצוב כאוב ועצוב פעמיים רשלנו...</td>\n      <td>בריאות</td>\n    </tr>\n    <tr>\n      <th>...</th>\n      <td>...</td>\n      <td>...</td>\n      <td>...</td>\n      <td>...</td>\n      <td>...</td>\n      <td>...</td>\n      <td>...</td>\n      <td>...</td>\n    </tr>\n    <tr>\n      <th>2736</th>\n      <td>Committee</td>\n      <td>75.0</td>\n      <td>433.0</td>\n      <td>2022-02-21 10:15:00</td>\n      <td>&lt;&lt; יור &gt;&gt; היו\"ר אבתיסאם מראענה: &lt;&lt; יור &gt;&gt;</td>\n      <td>בוקר טוב לכולן ולכולם. אז אנחנו שמחות ושמחים ל...</td>\n      <td>לכולן ולכולם שמחות ושמחים לקיים מעקב אלימות מי...</td>\n      <td>נשים</td>\n    </tr>\n    <tr>\n      <th>2737</th>\n      <td>Committee</td>\n      <td>52.0</td>\n      <td>268.0</td>\n      <td>2017-11-14 11:30:00</td>\n      <td>מרב תורג'מן:</td>\n      <td>נכון. כידוע הצעת החוק מסדירה שני נושאים, אחד ז...</td>\n      <td>כידוע מסדירה נושאים הפטור מחובת ביטוח רכב רכוש...</td>\n      <td>בטחון פנים</td>\n    </tr>\n    <tr>\n      <th>2738</th>\n      <td>Committee</td>\n      <td>87.0</td>\n      <td>502.0</td>\n      <td>2016-11-28 11:15:00</td>\n      <td>היו\"ר משה גפני:</td>\n      <td>אנחנו דנים עכשיו בפיצויים ובשיקום לנפגעי ולנזק...</td>\n      <td>דנים בפיצויים ובשיקום לנפגעי ולנזקי השריפות עס...</td>\n      <td>בטחון פנים</td>\n    </tr>\n    <tr>\n      <th>2739</th>\n      <td>Committee</td>\n      <td>75.0</td>\n      <td>413.0</td>\n      <td>2021-12-21 10:30:00</td>\n      <td>&lt;&lt; יור &gt;&gt; היו\"ר שרן מרים השכל: &lt;&lt; יור &gt;&gt;</td>\n      <td>ועדת המשנה מאוד מאוד חשובה, הוועדה תעסוק בחינו...</td>\n      <td>חשובה תעסוק בחינוך הממלכתי-דתי ששם אתגרים בלתי...</td>\n      <td>חינוך</td>\n    </tr>\n    <tr>\n      <th>2740</th>\n      <td>Committee</td>\n      <td>59.0</td>\n      <td>321.0</td>\n      <td>2016-08-01 10:30:00</td>\n      <td>איילת לוי:</td>\n      <td>התיקון שאנחנו מביאים כאן הוא תיקון לסעיף 102 ל...</td>\n      <td>התיקון מביאים 102 לחוק המשטרה המשטרה דין משמעת...</td>\n      <td>בטחון פנים</td>\n    </tr>\n  </tbody>\n</table>\n<p>2458 rows × 8 columns</p>\n</div>"
     },
     "execution_count": 256,
     "metadata": {},
     "output_type": "execute_result"
    }
   ],
   "source": [
    "# save final topics to file\n",
    "final_df = joined_df[joined_df.ManualTopic.isin(final_topics)]\n",
    "final_df = final_df[['$Type', 'QuoteWordCount', 'QuoteLen', 'StartDate', 'Speaker','QuoteText', 'NonStopwordsQuoteText', 'ManualTopic']]\n",
    "final_df.rename(columns={\"$Type\": \"Type\", \"ManualTopic\": \"Tag\"}, inplace=True)\n",
    "final_df.to_csv(\"../data/6 - Classification data/full_classification_df.csv\", index=False)\n",
    "final_df"
   ],
   "metadata": {
    "collapsed": false,
    "pycharm": {
     "name": "#%%\n"
    }
   }
  },
  {
   "cell_type": "markdown",
   "source": [
    "## Final classification data EDA"
   ],
   "metadata": {
    "collapsed": false,
    "pycharm": {
     "name": "#%% md\n"
    }
   }
  },
  {
   "cell_type": "code",
   "execution_count": null,
   "outputs": [],
   "source": [
    "stop_words = get_stopwords()\n",
    "text = final_df[\"QuoteText\"]\n",
    "plot_top_n_words_hist(text, 25, stop_words, plot_non_stopwords=True, print_non_stopwords=True)"
   ],
   "metadata": {
    "collapsed": false,
    "pycharm": {
     "name": "#%%\n"
    }
   }
  },
  {
   "cell_type": "code",
   "execution_count": null,
   "outputs": [],
   "source": [
    "plot_top_n_bigrams_hist(text, stop_words, 25, True)"
   ],
   "metadata": {
    "collapsed": false,
    "pycharm": {
     "name": "#%%\n"
    }
   }
  }
 ],
 "metadata": {
  "kernelspec": {
   "display_name": "Python 3",
   "language": "python",
   "name": "python3"
  },
  "language_info": {
   "codemirror_mode": {
    "name": "ipython",
    "version": 2
   },
   "file_extension": ".py",
   "mimetype": "text/x-python",
   "name": "python",
   "nbconvert_exporter": "python",
   "pygments_lexer": "ipython2",
   "version": "2.7.6"
  }
 },
 "nbformat": 4,
 "nbformat_minor": 0
}